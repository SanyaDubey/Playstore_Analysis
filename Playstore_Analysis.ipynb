{
 "cells": [
  {
   "cell_type": "code",
   "execution_count": 2,
   "metadata": {},
   "outputs": [],
   "source": [
    "# Importing necessary libraries\n",
    "\n",
    "import pandas as pd\n",
    "import numpy as np\n",
    "import matplotlib.pyplot as plt\n",
    "import seaborn as sns\n",
    "import warnings\n",
    "warnings.filterwarnings('ignore')"
   ]
  },
  {
   "cell_type": "code",
   "execution_count": 3,
   "metadata": {},
   "outputs": [],
   "source": [
    "# Loading the dataset\n",
    "\n",
    "df_play = pd.read_csv('playstore-analysis (2) (1).csv')"
   ]
  },
  {
   "cell_type": "code",
   "execution_count": 4,
   "metadata": {},
   "outputs": [
    {
     "data": {
      "text/html": [
       "<div>\n",
       "<style scoped>\n",
       "    .dataframe tbody tr th:only-of-type {\n",
       "        vertical-align: middle;\n",
       "    }\n",
       "\n",
       "    .dataframe tbody tr th {\n",
       "        vertical-align: top;\n",
       "    }\n",
       "\n",
       "    .dataframe thead th {\n",
       "        text-align: right;\n",
       "    }\n",
       "</style>\n",
       "<table border=\"1\" class=\"dataframe\">\n",
       "  <thead>\n",
       "    <tr style=\"text-align: right;\">\n",
       "      <th></th>\n",
       "      <th>App</th>\n",
       "      <th>Category</th>\n",
       "      <th>Rating</th>\n",
       "      <th>Reviews</th>\n",
       "      <th>Size</th>\n",
       "      <th>Installs</th>\n",
       "      <th>Type</th>\n",
       "      <th>Price</th>\n",
       "      <th>Content Rating</th>\n",
       "      <th>Genres</th>\n",
       "      <th>Last Updated</th>\n",
       "      <th>Current Ver</th>\n",
       "      <th>Android Ver</th>\n",
       "    </tr>\n",
       "  </thead>\n",
       "  <tbody>\n",
       "    <tr>\n",
       "      <th>0</th>\n",
       "      <td>Photo Editor &amp; Candy Camera &amp; Grid &amp; ScrapBook</td>\n",
       "      <td>ART_AND_DESIGN</td>\n",
       "      <td>4.1</td>\n",
       "      <td>159</td>\n",
       "      <td>19000.0</td>\n",
       "      <td>10,000+</td>\n",
       "      <td>Free</td>\n",
       "      <td>0</td>\n",
       "      <td>Everyone</td>\n",
       "      <td>Art &amp; Design</td>\n",
       "      <td>January 7, 2018</td>\n",
       "      <td>1.0.0</td>\n",
       "      <td>4.0.3 and up</td>\n",
       "    </tr>\n",
       "    <tr>\n",
       "      <th>1</th>\n",
       "      <td>Coloring book moana</td>\n",
       "      <td>ART_AND_DESIGN</td>\n",
       "      <td>3.9</td>\n",
       "      <td>967</td>\n",
       "      <td>14000.0</td>\n",
       "      <td>500,000+</td>\n",
       "      <td>Free</td>\n",
       "      <td>0</td>\n",
       "      <td>Everyone</td>\n",
       "      <td>Art &amp; Design;Pretend Play</td>\n",
       "      <td>January 15, 2018</td>\n",
       "      <td>2.0.0</td>\n",
       "      <td>4.0.3 and up</td>\n",
       "    </tr>\n",
       "    <tr>\n",
       "      <th>2</th>\n",
       "      <td>U Launcher Lite – FREE Live Cool Themes, Hide ...</td>\n",
       "      <td>ART_AND_DESIGN</td>\n",
       "      <td>4.7</td>\n",
       "      <td>87510</td>\n",
       "      <td>8700.0</td>\n",
       "      <td>5,000,000+</td>\n",
       "      <td>Free</td>\n",
       "      <td>0</td>\n",
       "      <td>Everyone</td>\n",
       "      <td>Art &amp; Design</td>\n",
       "      <td>August 1, 2018</td>\n",
       "      <td>1.2.4</td>\n",
       "      <td>4.0.3 and up</td>\n",
       "    </tr>\n",
       "    <tr>\n",
       "      <th>3</th>\n",
       "      <td>Sketch - Draw &amp; Paint</td>\n",
       "      <td>ART_AND_DESIGN</td>\n",
       "      <td>4.5</td>\n",
       "      <td>215644</td>\n",
       "      <td>25000.0</td>\n",
       "      <td>50,000,000+</td>\n",
       "      <td>Free</td>\n",
       "      <td>0</td>\n",
       "      <td>Teen</td>\n",
       "      <td>Art &amp; Design</td>\n",
       "      <td>June 8, 2018</td>\n",
       "      <td>Varies with device</td>\n",
       "      <td>4.2 and up</td>\n",
       "    </tr>\n",
       "    <tr>\n",
       "      <th>4</th>\n",
       "      <td>Pixel Draw - Number Art Coloring Book</td>\n",
       "      <td>ART_AND_DESIGN</td>\n",
       "      <td>4.3</td>\n",
       "      <td>967</td>\n",
       "      <td>2800.0</td>\n",
       "      <td>100,000+</td>\n",
       "      <td>Free</td>\n",
       "      <td>0</td>\n",
       "      <td>Everyone</td>\n",
       "      <td>Art &amp; Design;Creativity</td>\n",
       "      <td>June 20, 2018</td>\n",
       "      <td>1.1</td>\n",
       "      <td>4.4 and up</td>\n",
       "    </tr>\n",
       "  </tbody>\n",
       "</table>\n",
       "</div>"
      ],
      "text/plain": [
       "                                                 App        Category  Rating  \\\n",
       "0     Photo Editor & Candy Camera & Grid & ScrapBook  ART_AND_DESIGN     4.1   \n",
       "1                                Coloring book moana  ART_AND_DESIGN     3.9   \n",
       "2  U Launcher Lite – FREE Live Cool Themes, Hide ...  ART_AND_DESIGN     4.7   \n",
       "3                              Sketch - Draw & Paint  ART_AND_DESIGN     4.5   \n",
       "4              Pixel Draw - Number Art Coloring Book  ART_AND_DESIGN     4.3   \n",
       "\n",
       "  Reviews     Size     Installs  Type Price Content Rating  \\\n",
       "0     159  19000.0      10,000+  Free     0       Everyone   \n",
       "1     967  14000.0     500,000+  Free     0       Everyone   \n",
       "2   87510   8700.0   5,000,000+  Free     0       Everyone   \n",
       "3  215644  25000.0  50,000,000+  Free     0           Teen   \n",
       "4     967   2800.0     100,000+  Free     0       Everyone   \n",
       "\n",
       "                      Genres      Last Updated         Current Ver  \\\n",
       "0               Art & Design   January 7, 2018               1.0.0   \n",
       "1  Art & Design;Pretend Play  January 15, 2018               2.0.0   \n",
       "2               Art & Design    August 1, 2018               1.2.4   \n",
       "3               Art & Design      June 8, 2018  Varies with device   \n",
       "4    Art & Design;Creativity     June 20, 2018                 1.1   \n",
       "\n",
       "    Android Ver  \n",
       "0  4.0.3 and up  \n",
       "1  4.0.3 and up  \n",
       "2  4.0.3 and up  \n",
       "3    4.2 and up  \n",
       "4    4.4 and up  "
      ]
     },
     "execution_count": 4,
     "metadata": {},
     "output_type": "execute_result"
    }
   ],
   "source": [
    "# Checking the dataset\n",
    "\n",
    "df_play.head()"
   ]
  },
  {
   "cell_type": "code",
   "execution_count": 4,
   "metadata": {},
   "outputs": [
    {
     "data": {
      "text/plain": [
       "(10841, 13)"
      ]
     },
     "execution_count": 4,
     "metadata": {},
     "output_type": "execute_result"
    }
   ],
   "source": [
    "# Checking the shape of the dataset.\n",
    "\n",
    "df_play.shape"
   ]
  },
  {
   "cell_type": "markdown",
   "metadata": {},
   "source": [
    "    There are 10841 records and 13 columns in the dataset including the target variable."
   ]
  },
  {
   "cell_type": "code",
   "execution_count": 5,
   "metadata": {},
   "outputs": [
    {
     "name": "stdout",
     "output_type": "stream",
     "text": [
      "<class 'pandas.core.frame.DataFrame'>\n",
      "RangeIndex: 10841 entries, 0 to 10840\n",
      "Data columns (total 13 columns):\n",
      " #   Column          Non-Null Count  Dtype  \n",
      "---  ------          --------------  -----  \n",
      " 0   App             10841 non-null  object \n",
      " 1   Category        10841 non-null  object \n",
      " 2   Rating          9367 non-null   float64\n",
      " 3   Reviews         10841 non-null  object \n",
      " 4   Size            10841 non-null  float64\n",
      " 5   Installs        10841 non-null  object \n",
      " 6   Type            10840 non-null  object \n",
      " 7   Price           10841 non-null  object \n",
      " 8   Content Rating  10840 non-null  object \n",
      " 9   Genres          10841 non-null  object \n",
      " 10  Last Updated    10841 non-null  object \n",
      " 11  Current Ver     10833 non-null  object \n",
      " 12  Android Ver     10838 non-null  object \n",
      "dtypes: float64(2), object(11)\n",
      "memory usage: 1.1+ MB\n"
     ]
    }
   ],
   "source": [
    "# Cheking the basic information of the variables of the dataset.\n",
    "\n",
    "df_play.info()"
   ]
  },
  {
   "cell_type": "code",
   "execution_count": 6,
   "metadata": {},
   "outputs": [
    {
     "data": {
      "text/plain": [
       "App                  0\n",
       "Category             0\n",
       "Rating            1474\n",
       "Reviews              0\n",
       "Size                 0\n",
       "Installs             0\n",
       "Type                 1\n",
       "Price                0\n",
       "Content Rating       1\n",
       "Genres               0\n",
       "Last Updated         0\n",
       "Current Ver          8\n",
       "Android Ver          3\n",
       "dtype: int64"
      ]
     },
     "execution_count": 6,
     "metadata": {},
     "output_type": "execute_result"
    }
   ],
   "source": [
    "# Checking the missing values\n",
    "\n",
    "df_play.isnull().sum()"
   ]
  },
  {
   "cell_type": "code",
   "execution_count": 7,
   "metadata": {},
   "outputs": [
    {
     "data": {
      "image/png": "[encoded data removed]",
      "text/plain": [
       "<Figure size 432x288 with 2 Axes>"
      ]
     },
     "metadata": {
      "needs_background": "light"
     },
     "output_type": "display_data"
    }
   ],
   "source": [
    "# Visualizing the missing vauesusing heatmap\n",
    "\n",
    "sns.heatmap(df_play.isnull())\n",
    "plt.show()"
   ]
  },
  {
   "cell_type": "markdown",
   "metadata": {},
   "source": [
    "    The target variable i.e. 'Rating' have have a lot of missing vaulues.\n",
    "    Very few null values are also present in 'Type ', 'Content Rating', 'Android Ver' and 'Current Ver'."
   ]
  },
  {
   "cell_type": "markdown",
   "metadata": {},
   "source": [
    "### 1. Data clean up – Missing value treatment"
   ]
  },
  {
   "cell_type": "markdown",
   "metadata": {},
   "source": [
    "#### a. Drop records where rating is missing since rating is our target/study variable."
   ]
  },
  {
   "cell_type": "code",
   "execution_count": 8,
   "metadata": {},
   "outputs": [],
   "source": [
    "# Droping the records\n",
    "\n",
    "df_play.dropna(subset = ['Rating'], axis = 0, inplace = True)"
   ]
  },
  {
   "cell_type": "code",
   "execution_count": 9,
   "metadata": {},
   "outputs": [
    {
     "data": {
      "text/plain": [
       "0"
      ]
     },
     "execution_count": 9,
     "metadata": {},
     "output_type": "execute_result"
    }
   ],
   "source": [
    "# Checking the variable's null values after removing them.\n",
    "\n",
    "df_play['Rating'].isnull().sum()"
   ]
  },
  {
   "cell_type": "markdown",
   "metadata": {},
   "source": [
    "    The missing values for 'Rating' is treated."
   ]
  },
  {
   "cell_type": "code",
   "execution_count": 10,
   "metadata": {},
   "outputs": [
    {
     "data": {
      "text/plain": [
       "(9367, 13)"
      ]
     },
     "execution_count": 10,
     "metadata": {},
     "output_type": "execute_result"
    }
   ],
   "source": [
    "# Checking the shape of dataset after the above operation.\n",
    "\n",
    "df_play.shape"
   ]
  },
  {
   "cell_type": "markdown",
   "metadata": {},
   "source": [
    "    Now, the dataset have 9367 rows or records and 13 columns."
   ]
  },
  {
   "cell_type": "markdown",
   "metadata": {},
   "source": [
    "##### b. Check the null values for the Android Ver column."
   ]
  },
  {
   "cell_type": "code",
   "execution_count": 11,
   "metadata": {},
   "outputs": [
    {
     "name": "stdout",
     "output_type": "stream",
     "text": [
      "Count of missing values in Android Ver : 3\n"
     ]
    }
   ],
   "source": [
    "# Chceking the count of missing values in android ver column.\n",
    "\n",
    "print(f\"Count of missing values in Android Ver : {df_play['Android Ver'].isnull().sum()}\")"
   ]
  },
  {
   "cell_type": "markdown",
   "metadata": {},
   "source": [
    "##### i. Are all 3 records having the same problem?"
   ]
  },
  {
   "cell_type": "code",
   "execution_count": 12,
   "metadata": {},
   "outputs": [
    {
     "data": {
      "text/html": [
       "<div>\n",
       "<style scoped>\n",
       "    .dataframe tbody tr th:only-of-type {\n",
       "        vertical-align: middle;\n",
       "    }\n",
       "\n",
       "    .dataframe tbody tr th {\n",
       "        vertical-align: top;\n",
       "    }\n",
       "\n",
       "    .dataframe thead th {\n",
       "        text-align: right;\n",
       "    }\n",
       "</style>\n",
       "<table border=\"1\" class=\"dataframe\">\n",
       "  <thead>\n",
       "    <tr style=\"text-align: right;\">\n",
       "      <th></th>\n",
       "      <th>App</th>\n",
       "      <th>Category</th>\n",
       "      <th>Rating</th>\n",
       "      <th>Reviews</th>\n",
       "      <th>Size</th>\n",
       "      <th>Installs</th>\n",
       "      <th>Type</th>\n",
       "      <th>Price</th>\n",
       "      <th>Content Rating</th>\n",
       "      <th>Genres</th>\n",
       "      <th>Last Updated</th>\n",
       "      <th>Current Ver</th>\n",
       "      <th>Android Ver</th>\n",
       "    </tr>\n",
       "  </thead>\n",
       "  <tbody>\n",
       "    <tr>\n",
       "      <th>4453</th>\n",
       "      <td>[substratum] Vacuum: P</td>\n",
       "      <td>PERSONALIZATION</td>\n",
       "      <td>4.4</td>\n",
       "      <td>230</td>\n",
       "      <td>11000.000000</td>\n",
       "      <td>1,000+</td>\n",
       "      <td>Paid</td>\n",
       "      <td>$1.49</td>\n",
       "      <td>Everyone</td>\n",
       "      <td>Personalization</td>\n",
       "      <td>July 20, 2018</td>\n",
       "      <td>4.4</td>\n",
       "      <td>NaN</td>\n",
       "    </tr>\n",
       "    <tr>\n",
       "      <th>4490</th>\n",
       "      <td>Pi Dark [substratum]</td>\n",
       "      <td>PERSONALIZATION</td>\n",
       "      <td>4.5</td>\n",
       "      <td>189</td>\n",
       "      <td>2100.000000</td>\n",
       "      <td>10,000+</td>\n",
       "      <td>Free</td>\n",
       "      <td>0</td>\n",
       "      <td>Everyone</td>\n",
       "      <td>Personalization</td>\n",
       "      <td>March 27, 2018</td>\n",
       "      <td>1.1</td>\n",
       "      <td>NaN</td>\n",
       "    </tr>\n",
       "    <tr>\n",
       "      <th>10472</th>\n",
       "      <td>Life Made WI-Fi Touchscreen Photo Frame</td>\n",
       "      <td>1.9</td>\n",
       "      <td>19.0</td>\n",
       "      <td>3.0M</td>\n",
       "      <td>21516.529524</td>\n",
       "      <td>Free</td>\n",
       "      <td>0</td>\n",
       "      <td>Everyone</td>\n",
       "      <td>NaN</td>\n",
       "      <td>February 11, 2018</td>\n",
       "      <td>1.0.19</td>\n",
       "      <td>4.0 and up</td>\n",
       "      <td>NaN</td>\n",
       "    </tr>\n",
       "  </tbody>\n",
       "</table>\n",
       "</div>"
      ],
      "text/plain": [
       "                                           App         Category  Rating  \\\n",
       "4453                    [substratum] Vacuum: P  PERSONALIZATION     4.4   \n",
       "4490                      Pi Dark [substratum]  PERSONALIZATION     4.5   \n",
       "10472  Life Made WI-Fi Touchscreen Photo Frame              1.9    19.0   \n",
       "\n",
       "      Reviews          Size Installs  Type     Price Content Rating  \\\n",
       "4453      230  11000.000000   1,000+  Paid     $1.49       Everyone   \n",
       "4490      189   2100.000000  10,000+  Free         0       Everyone   \n",
       "10472    3.0M  21516.529524     Free     0  Everyone            NaN   \n",
       "\n",
       "                  Genres    Last Updated Current Ver Android Ver  \n",
       "4453     Personalization   July 20, 2018         4.4         NaN  \n",
       "4490     Personalization  March 27, 2018         1.1         NaN  \n",
       "10472  February 11, 2018          1.0.19  4.0 and up         NaN  "
      ]
     },
     "execution_count": 12,
     "metadata": {},
     "output_type": "execute_result"
    }
   ],
   "source": [
    "# Checking the rows where android ver column have null values.\n",
    "\n",
    "df_play.loc[df_play['Android Ver'].isnull()]"
   ]
  },
  {
   "cell_type": "markdown",
   "metadata": {},
   "source": [
    "    Yes, all the 3 records have NaN values in 'Android Ver'."
   ]
  },
  {
   "cell_type": "markdown",
   "metadata": {},
   "source": [
    "##### ii. Drop the 3rd record i.e. record for “Life Made WIFI …”"
   ]
  },
  {
   "cell_type": "code",
   "execution_count": 13,
   "metadata": {},
   "outputs": [],
   "source": [
    "# Dropping the 3rd null record i.e. index no. 10472\n",
    "\n",
    "df_play.drop([10472], axis = 0, inplace = True)"
   ]
  },
  {
   "cell_type": "code",
   "execution_count": 14,
   "metadata": {},
   "outputs": [
    {
     "name": "stdout",
     "output_type": "stream",
     "text": [
      "Count of missing values in Android Ver : 2\n"
     ]
    }
   ],
   "source": [
    "# Now, again checking the count of total null values in column 'Android Ver' after droping 1 record.\n",
    "\n",
    "print(f\"Count of missing values in Android Ver : {df_play['Android Ver'].isnull().sum()}\")"
   ]
  },
  {
   "cell_type": "markdown",
   "metadata": {},
   "source": [
    "    Only two records are left having null values."
   ]
  },
  {
   "cell_type": "markdown",
   "metadata": {},
   "source": [
    "##### iii. Replace remaining missing values with the mode"
   ]
  },
  {
   "cell_type": "code",
   "execution_count": 5,
   "metadata": {},
   "outputs": [
    {
     "data": {
      "text/plain": [
       "['4.0.3 and up',\n",
       " '4.0.3 and up',\n",
       " '4.0.3 and up',\n",
       " '4.2 and up',\n",
       " '4.4 and up',\n",
       " '2.3 and up',\n",
       " '4.0.3 and up',\n",
       " '4.2 and up',\n",
       " '3.0 and up',\n",
       " '4.0.3 and up',\n",
       " '4.1 and up',\n",
       " '4.0 and up',\n",
       " '4.1 and up',\n",
       " '4.4 and up',\n",
       " '2.3 and up',\n",
       " '4.2 and up',\n",
       " '4.1 and up',\n",
       " '2.3 and up',\n",
       " '4.0.3 and up',\n",
       " '4.1 and up',\n",
       " '4.1 and up',\n",
       " '4.0.3 and up',\n",
       " '4.0.3 and up',\n",
       " '4.1 and up',\n",
       " '4.1 and up',\n",
       " '3.0 and up',\n",
       " '4.0.3 and up',\n",
       " '4.0.3 and up',\n",
       " '2.3 and up',\n",
       " '2.3 and up',\n",
       " '4.0.3 and up',\n",
       " '2.3 and up',\n",
       " '4.0 and up',\n",
       " '4.1 and up',\n",
       " '4.1 and up',\n",
       " '4.1 and up',\n",
       " '4.4 and up',\n",
       " '2.3.3 and up',\n",
       " '4.0.3 and up',\n",
       " '4.0 and up',\n",
       " '4.0.3 and up',\n",
       " '4.0.3 and up',\n",
       " 'Varies with device',\n",
       " '4.1 and up',\n",
       " '4.1 and up',\n",
       " '4.1 and up',\n",
       " '4.1 and up',\n",
       " '4.1 and up',\n",
       " '2.3 and up',\n",
       " '4.0.3 and up',\n",
       " '4.1 and up',\n",
       " '4.1 and up',\n",
       " 'Varies with device',\n",
       " '4.1 and up',\n",
       " '4.1 and up',\n",
       " '4.0 and up',\n",
       " '4.4 and up',\n",
       " '4.1 and up',\n",
       " '2.2 and up',\n",
       " '4.4 and up',\n",
       " '4.0.3 and up',\n",
       " '4.2 and up',\n",
       " '4.1 and up',\n",
       " '4.0 and up',\n",
       " '4.2 and up',\n",
       " '4.4 and up',\n",
       " '2.3 and up',\n",
       " 'Varies with device',\n",
       " 'Varies with device',\n",
       " '4.0.3 and up',\n",
       " '4.0.3 and up',\n",
       " '4.2 and up',\n",
       " '5.0 and up',\n",
       " '2.3.3 and up',\n",
       " '4.0 and up',\n",
       " '4.0 and up',\n",
       " '4.1 and up',\n",
       " '4.0 and up',\n",
       " '4.1 and up',\n",
       " '4.1 and up',\n",
       " '6.0 and up',\n",
       " '4.2 and up',\n",
       " '5.0 and up',\n",
       " '4.0.3 and up',\n",
       " '4.4 and up',\n",
       " 'Varies with device',\n",
       " '2.3 and up',\n",
       " '4.0.3 and up',\n",
       " 'Varies with device',\n",
       " 'Varies with device',\n",
       " '4.1 and up',\n",
       " '4.0.3 and up',\n",
       " '4.0.3 and up',\n",
       " '4.0.3 and up',\n",
       " '4.0.3 and up',\n",
       " '4.0 and up',\n",
       " '4.0.3 and up',\n",
       " '4.0 and up',\n",
       " '5.0 and up',\n",
       " '4.1 and up',\n",
       " '4.1 and up',\n",
       " '4.0.3 and up',\n",
       " 'Varies with device',\n",
       " '4.1 and up',\n",
       " '4.0.3 and up',\n",
       " '4.0 and up',\n",
       " '4.2 and up',\n",
       " '5.0 and up',\n",
       " '4.0.3 and up',\n",
       " 'Varies with device',\n",
       " '4.0 and up',\n",
       " '4.0 and up',\n",
       " '4.0.3 and up',\n",
       " '3.0 and up',\n",
       " '4.0.3 and up',\n",
       " '4.0.3 and up',\n",
       " '4.0.3 and up',\n",
       " 'Varies with device',\n",
       " '4.0 and up',\n",
       " '4.0 and up',\n",
       " '4.0.3 and up',\n",
       " '4.0 and up',\n",
       " '5.0 and up',\n",
       " '4.1 and up',\n",
       " '4.0.3 and up',\n",
       " '4.0 and up',\n",
       " '4.1 and up',\n",
       " '4.1 and up',\n",
       " '4.0 and up',\n",
       " '2.3 and up',\n",
       " '3.0 and up',\n",
       " '4.0.3 and up',\n",
       " '4.0.3 and up',\n",
       " '1.6 and up',\n",
       " '3.0 and up',\n",
       " '4.0.3 and up',\n",
       " '4.0 and up',\n",
       " '4.0.3 and up',\n",
       " '4.0.3 and up',\n",
       " 'Varies with device',\n",
       " '4.4 and up',\n",
       " '4.0 and up',\n",
       " 'Varies with device',\n",
       " 'Varies with device',\n",
       " '1.5 and up',\n",
       " 'Varies with device',\n",
       " 'Varies with device',\n",
       " '4.1 and up',\n",
       " '4.0 and up',\n",
       " 'Varies with device',\n",
       " '4.0 and up',\n",
       " '4.0.3 and up',\n",
       " 'Varies with device',\n",
       " '2.3 and up',\n",
       " '4.0.3 and up',\n",
       " '4.1 and up',\n",
       " '4.0.3 and up',\n",
       " 'Varies with device',\n",
       " '4.1 and up',\n",
       " '4.1 and up',\n",
       " '2.3 and up',\n",
       " '4.1 and up',\n",
       " 'Varies with device',\n",
       " '2.3 and up',\n",
       " '4.0 and up',\n",
       " '4.0 and up',\n",
       " '4.1 and up',\n",
       " '4.0.3 and up',\n",
       " '3.0 and up',\n",
       " '4.0.3 and up',\n",
       " '2.1 and up',\n",
       " '4.4 and up',\n",
       " 'Varies with device',\n",
       " '7.0 and up',\n",
       " '4.0 and up',\n",
       " '4.0.3 and up',\n",
       " '4.0.3 and up',\n",
       " '3.0 and up',\n",
       " '3.0 and up',\n",
       " 'Varies with device',\n",
       " '6.0 and up',\n",
       " '4.0 and up',\n",
       " '4.2 and up',\n",
       " '4.0.3 and up',\n",
       " '2.2 and up',\n",
       " '5.1 and up',\n",
       " '4.2 and up',\n",
       " 'Varies with device',\n",
       " 'Varies with device',\n",
       " 'Varies with device',\n",
       " '5.0 and up',\n",
       " 'Varies with device',\n",
       " 'Varies with device',\n",
       " '4.4 and up',\n",
       " '4.1 and up',\n",
       " '4.0.3 and up',\n",
       " '5.0 and up',\n",
       " '4.1 and up',\n",
       " '4.1 and up',\n",
       " '4.0.3 and up',\n",
       " '1.5 and up',\n",
       " 'Varies with device',\n",
       " 'Varies with device',\n",
       " '4.3 and up',\n",
       " 'Varies with device',\n",
       " '4.1 and up',\n",
       " '4.0 and up',\n",
       " 'Varies with device',\n",
       " 'Varies with device',\n",
       " '2.2 and up',\n",
       " '4.1 and up',\n",
       " 'Varies with device',\n",
       " '4.1 and up',\n",
       " '4.0 and up',\n",
       " 'Varies with device',\n",
       " '4.1 and up',\n",
       " '4.0 and up',\n",
       " '4.1 and up',\n",
       " '4.2 and up',\n",
       " '4.0 and up',\n",
       " '4.0 and up',\n",
       " '4.0.3 and up',\n",
       " '4.0.3 and up',\n",
       " '2.2 and up',\n",
       " '4.0.3 and up',\n",
       " '7.0 and up',\n",
       " 'Varies with device',\n",
       " '6.0 and up',\n",
       " 'Varies with device',\n",
       " '4.0.3 and up',\n",
       " 'Varies with device',\n",
       " '3.0 and up',\n",
       " '4.1 and up',\n",
       " '4.1 and up',\n",
       " '4.0 and up',\n",
       " '3.0 and up',\n",
       " 'Varies with device',\n",
       " '4.1 and up',\n",
       " '4.0.3 and up',\n",
       " '4.4 and up',\n",
       " 'Varies with device',\n",
       " '4.2 and up',\n",
       " '5.0 and up',\n",
       " '4.1 and up',\n",
       " '4.1 and up',\n",
       " 'Varies with device',\n",
       " '5.0 and up',\n",
       " '4.0.3 and up',\n",
       " '5.0 and up',\n",
       " '4.4 and up',\n",
       " '4.0 and up',\n",
       " '4.1 and up',\n",
       " '4.1 and up',\n",
       " '4.4 and up',\n",
       " '4.1 and up',\n",
       " '4.3 and up',\n",
       " '4.0 and up',\n",
       " '5.0 and up',\n",
       " '4.4 and up',\n",
       " 'Varies with device',\n",
       " '4.0.3 and up',\n",
       " '4.4 and up',\n",
       " '4.0 and up',\n",
       " '5.0 and up',\n",
       " 'Varies with device',\n",
       " 'Varies with device',\n",
       " '4.1 and up',\n",
       " '4.0.3 and up',\n",
       " '4.4 and up',\n",
       " 'Varies with device',\n",
       " '4.2 and up',\n",
       " '5.0 and up',\n",
       " '4.1 and up',\n",
       " '4.1 and up',\n",
       " 'Varies with device',\n",
       " '5.0 and up',\n",
       " '4.0.3 and up',\n",
       " '5.0 and up',\n",
       " '4.4 and up',\n",
       " '4.0 and up',\n",
       " '4.1 and up',\n",
       " '4.1 and up',\n",
       " '4.4 and up',\n",
       " '4.1 and up',\n",
       " 'Varies with device',\n",
       " '4.0.3 and up',\n",
       " 'Varies with device',\n",
       " '3.0 and up',\n",
       " '4.1 and up',\n",
       " '4.1 and up',\n",
       " '4.0 and up',\n",
       " '3.0 and up',\n",
       " 'Varies with device',\n",
       " '4.1 and up',\n",
       " 'Varies with device',\n",
       " '5.0 and up',\n",
       " '4.1 and up',\n",
       " 'Varies with device',\n",
       " '4.1 and up',\n",
       " '4.1 and up',\n",
       " '4.0.3 and up',\n",
       " '4.4 and up',\n",
       " '4.1 and up',\n",
       " '4.1 and up',\n",
       " '5.0 and up',\n",
       " '4.0 and up',\n",
       " '2.3 and up',\n",
       " '4.0.3 and up',\n",
       " '4.2 and up',\n",
       " '4.0.3 and up',\n",
       " '4.0.3 and up',\n",
       " '4.0.3 and up',\n",
       " '4.0.3 and up',\n",
       " '4.0.3 and up',\n",
       " '4.1 and up',\n",
       " 'Varies with device',\n",
       " '4.2 and up',\n",
       " '4.4 and up',\n",
       " '4.4 and up',\n",
       " '4.0 and up',\n",
       " 'Varies with device',\n",
       " '4.2 and up',\n",
       " '4.1 and up',\n",
       " '4.1 and up',\n",
       " '5.0 and up',\n",
       " '4.0.3 and up',\n",
       " '4.1 and up',\n",
       " 'Varies with device',\n",
       " '4.0 and up',\n",
       " '4.0.3 and up',\n",
       " '2.3 and up',\n",
       " '4.0.3 and up',\n",
       " '4.0.3 and up',\n",
       " '4.0 and up',\n",
       " '4.4 and up',\n",
       " 'Varies with device',\n",
       " 'Varies with device',\n",
       " '4.1 and up',\n",
       " 'Varies with device',\n",
       " '2.3 and up',\n",
       " 'Varies with device',\n",
       " 'Varies with device',\n",
       " 'Varies with device',\n",
       " '4.4 and up',\n",
       " 'Varies with device',\n",
       " '4.4 and up',\n",
       " '4.0 and up',\n",
       " '4.0 and up',\n",
       " '5.0 and up',\n",
       " '4.1 and up',\n",
       " '4.0.3 - 7.1.1',\n",
       " 'Varies with device',\n",
       " '4.0.3 - 7.1.1',\n",
       " 'Varies with device',\n",
       " 'Varies with device',\n",
       " '4.1 and up',\n",
       " 'Varies with device',\n",
       " '4.1 and up',\n",
       " '5.0 and up',\n",
       " 'Varies with device',\n",
       " 'Varies with device',\n",
       " 'Varies with device',\n",
       " '4.0.3 and up',\n",
       " 'Varies with device',\n",
       " '4.0.3 and up',\n",
       " 'Varies with device',\n",
       " '4.0 and up',\n",
       " '4.0.3 and up',\n",
       " '5.0 and up',\n",
       " 'Varies with device',\n",
       " 'Varies with device',\n",
       " '4.4 and up',\n",
       " '4.1 and up',\n",
       " 'Varies with device',\n",
       " '4.1 and up',\n",
       " 'Varies with device',\n",
       " 'Varies with device',\n",
       " '4.0.3 and up',\n",
       " '4.0 and up',\n",
       " '4.3 and up',\n",
       " '4.4 and up',\n",
       " 'Varies with device',\n",
       " 'Varies with device',\n",
       " '4.0 and up',\n",
       " '4.0.3 and up',\n",
       " 'Varies with device',\n",
       " 'Varies with device',\n",
       " '4.2 and up',\n",
       " '4.0 and up',\n",
       " '4.4 and up',\n",
       " 'Varies with device',\n",
       " 'Varies with device',\n",
       " 'Varies with device',\n",
       " 'Varies with device',\n",
       " 'Varies with device',\n",
       " '4.0 and up',\n",
       " 'Varies with device',\n",
       " '2.3 and up',\n",
       " '2.3 and up',\n",
       " 'Varies with device',\n",
       " '4.0.3 and up',\n",
       " '4.1 and up',\n",
       " 'Varies with device',\n",
       " 'Varies with device',\n",
       " 'Varies with device',\n",
       " '4.0.3 and up',\n",
       " '4.0.3 and up',\n",
       " 'Varies with device',\n",
       " '5.0 and up',\n",
       " '4.0 and up',\n",
       " '4.1 and up',\n",
       " 'Varies with device',\n",
       " 'Varies with device',\n",
       " '4.0 and up',\n",
       " '4.1 and up',\n",
       " 'Varies with device',\n",
       " '2.3 and up',\n",
       " 'Varies with device',\n",
       " 'Varies with device',\n",
       " '4.0 and up',\n",
       " '4.0 and up',\n",
       " '4.0.3 and up',\n",
       " 'Varies with device',\n",
       " '4.0 and up',\n",
       " '4.0 and up',\n",
       " '4.0 and up',\n",
       " '3.0 and up',\n",
       " '4.1 and up',\n",
       " '4.0.3 and up',\n",
       " '2.1 and up',\n",
       " '4.0 and up',\n",
       " 'Varies with device',\n",
       " '4.0 and up',\n",
       " '4.0 and up',\n",
       " '4.0.3 and up',\n",
       " '5.0 and up',\n",
       " '4.0.3 and up',\n",
       " '5.0 and up',\n",
       " '4.0 and up',\n",
       " '2.1 and up',\n",
       " '4.1 and up',\n",
       " '4.1 and up',\n",
       " 'Varies with device',\n",
       " 'Varies with device',\n",
       " '4.1 and up',\n",
       " 'Varies with device',\n",
       " '4.0.3 and up',\n",
       " '4.1 and up',\n",
       " 'Varies with device',\n",
       " 'Varies with device',\n",
       " '2.3 and up',\n",
       " 'Varies with device',\n",
       " '4.4 and up',\n",
       " '4.0.3 and up',\n",
       " 'Varies with device',\n",
       " '4.1 and up',\n",
       " '4.1 and up',\n",
       " '5.0 and up',\n",
       " '2.0 and up',\n",
       " 'Varies with device',\n",
       " '2.2 and up',\n",
       " '4.0 and up',\n",
       " 'Varies with device',\n",
       " 'Varies with device',\n",
       " 'Varies with device',\n",
       " '4.0 and up',\n",
       " '4.4 and up',\n",
       " 'Varies with device',\n",
       " 'Varies with device',\n",
       " 'Varies with device',\n",
       " '2.3.3 and up',\n",
       " '4.0.3 and up',\n",
       " 'Varies with device',\n",
       " 'Varies with device',\n",
       " 'Varies with device',\n",
       " 'Varies with device',\n",
       " '4.1 and up',\n",
       " '4.0 and up',\n",
       " '4.0 and up',\n",
       " '4.0 and up',\n",
       " '4.0.3 and up',\n",
       " '4.0 and up',\n",
       " 'Varies with device',\n",
       " '4.1 and up',\n",
       " 'Varies with device',\n",
       " '4.1 and up',\n",
       " '5.0 and up',\n",
       " '4.1 and up',\n",
       " '4.1 and up',\n",
       " '4.1 and up',\n",
       " '4.4 and up',\n",
       " 'Varies with device',\n",
       " '4.1 and up',\n",
       " '4.0 and up',\n",
       " '4.4 and up',\n",
       " '4.1 and up',\n",
       " '4.4 and up',\n",
       " '4.1 and up',\n",
       " '4.1 and up',\n",
       " '4.1 and up',\n",
       " 'Varies with device',\n",
       " '4.2 and up',\n",
       " '4.1 and up',\n",
       " '4.1 and up',\n",
       " '4.4 and up',\n",
       " '4.1 and up',\n",
       " '4.4 and up',\n",
       " '4.1 and up',\n",
       " 'Varies with device',\n",
       " '4.0.3 and up',\n",
       " '4.2 and up',\n",
       " '4.0.3 and up',\n",
       " '4.0.3 and up',\n",
       " '4.4 and up',\n",
       " '4.0 and up',\n",
       " '4.1 and up',\n",
       " '4.0.3 and up',\n",
       " '4.1 and up',\n",
       " '5.0 and up',\n",
       " '4.4 and up',\n",
       " '4.0.3 and up',\n",
       " '4.1 and up',\n",
       " '5.0 and up',\n",
       " '4.1 and up',\n",
       " '4.0 and up',\n",
       " '4.0.3 and up',\n",
       " '4.0 and up',\n",
       " '4.1 and up',\n",
       " '4.0.3 and up',\n",
       " '4.0 and up',\n",
       " '4.0.3 and up',\n",
       " '4.2 and up',\n",
       " 'Varies with device',\n",
       " '4.1 and up',\n",
       " '4.0.3 and up',\n",
       " '4.0.3 and up',\n",
       " '5.0 and up',\n",
       " '4.0 and up',\n",
       " '4.1 and up',\n",
       " '4.1 and up',\n",
       " '4.1 and up',\n",
       " '4.1 and up',\n",
       " '4.1 and up',\n",
       " '4.4 and up',\n",
       " '4.1 and up',\n",
       " '5.0 and up',\n",
       " '4.4 and up',\n",
       " '4.1 and up',\n",
       " '4.1 and up',\n",
       " '4.0.3 and up',\n",
       " '4.1 and up',\n",
       " '4.1 and up',\n",
       " '4.1 and up',\n",
       " 'Varies with device',\n",
       " '5.0 and up',\n",
       " '5.0 and up',\n",
       " '4.1 and up',\n",
       " '4.0.3 and up',\n",
       " '4.0.3 and up',\n",
       " '4.2 and up',\n",
       " '4.4 and up',\n",
       " 'Varies with device',\n",
       " '4.1 and up',\n",
       " '4.2 and up',\n",
       " '4.1 and up',\n",
       " '4.1 and up',\n",
       " '4.1 and up',\n",
       " '4.3 and up',\n",
       " '4.1 and up',\n",
       " '4.0.3 and up',\n",
       " '4.1 and up',\n",
       " '4.1 and up',\n",
       " '4.0.3 and up',\n",
       " '4.1 and up',\n",
       " 'Varies with device',\n",
       " '4.0.3 and up',\n",
       " '4.1 and up',\n",
       " '4.1 and up',\n",
       " '4.2 and up',\n",
       " '4.0.3 and up',\n",
       " '4.1 and up',\n",
       " '4.0.3 and up',\n",
       " '4.1 and up',\n",
       " '4.2 and up',\n",
       " '4.1 and up',\n",
       " '4.1 and up',\n",
       " '4.0.3 and up',\n",
       " '4.1 and up',\n",
       " '4.0.3 and up',\n",
       " '4.1 and up',\n",
       " '4.0 and up',\n",
       " '4.1 and up',\n",
       " '4.0.3 and up',\n",
       " '4.1 and up',\n",
       " '4.1 and up',\n",
       " '4.0.3 and up',\n",
       " '4.0.3 and up',\n",
       " '4.0.3 and up',\n",
       " '4.2 and up',\n",
       " '4.0 and up',\n",
       " '4.1 and up',\n",
       " '4.0 and up',\n",
       " '4.4 and up',\n",
       " '4.3 and up',\n",
       " '4.0.3 and up',\n",
       " '4.0.3 and up',\n",
       " '4.0.3 and up',\n",
       " '4.0.3 and up',\n",
       " '4.0.3 and up',\n",
       " '4.0.3 and up',\n",
       " '4.0.3 and up',\n",
       " '4.4 and up',\n",
       " '4.0.3 and up',\n",
       " '4.0 and up',\n",
       " '4.0.3 and up',\n",
       " '4.4 and up',\n",
       " '4.0.3 and up',\n",
       " '4.0 and up',\n",
       " '4.0.3 and up',\n",
       " '4.0.3 and up',\n",
       " '4.0.3 and up',\n",
       " '4.0 and up',\n",
       " '4.1 and up',\n",
       " '4.1 and up',\n",
       " '4.0.3 and up',\n",
       " '4.0.3 and up',\n",
       " '4.0.3 and up',\n",
       " '4.0.3 and up',\n",
       " '3.0 and up',\n",
       " '4.0 and up',\n",
       " '4.1 and up',\n",
       " '4.4 and up',\n",
       " '4.1 and up',\n",
       " '4.0.3 and up',\n",
       " '4.0.3 and up',\n",
       " '4.4 and up',\n",
       " '4.0.3 and up',\n",
       " '4.0.3 and up',\n",
       " '4.0.3 and up',\n",
       " '4.0.3 and up',\n",
       " '4.0.3 and up',\n",
       " '4.1 and up',\n",
       " '4.1 and up',\n",
       " '4.0 and up',\n",
       " '4.0.3 and up',\n",
       " '4.0.3 and up',\n",
       " '4.0 and up',\n",
       " '3.0 and up',\n",
       " '4.0.3 and up',\n",
       " '4.0.3 and up',\n",
       " '4.2 and up',\n",
       " '4.1 and up',\n",
       " '4.2 and up',\n",
       " '4.1 and up',\n",
       " '4.1 and up',\n",
       " '4.1 and up',\n",
       " '5.0 and up',\n",
       " '4.0.3 and up',\n",
       " '4.0.3 and up',\n",
       " '4.0 and up',\n",
       " '4.0.3 and up',\n",
       " '4.0.3 and up',\n",
       " '4.2 and up',\n",
       " '5.0 and up',\n",
       " '4.1 and up',\n",
       " '4.3 and up',\n",
       " '4.0.3 and up',\n",
       " '4.4 and up',\n",
       " '4.4 and up',\n",
       " '4.0.3 and up',\n",
       " 'Varies with device',\n",
       " '4.0.3 and up',\n",
       " '4.0.3 and up',\n",
       " '4.0.3 and up',\n",
       " '4.1 and up',\n",
       " '4.0.3 and up',\n",
       " '4.4 and up',\n",
       " '4.1 and up',\n",
       " '4.4 and up',\n",
       " '4.1 and up',\n",
       " '4.0.3 and up',\n",
       " '4.0.3 and up',\n",
       " '4.0.3 and up',\n",
       " '4.0 and up',\n",
       " '4.1 and up',\n",
       " '4.0.3 and up',\n",
       " '4.0.3 and up',\n",
       " '4.0.3 and up',\n",
       " '4.0.3 and up',\n",
       " '4.0.3 and up',\n",
       " '4.0 and up',\n",
       " '4.4 and up',\n",
       " '4.0.3 and up',\n",
       " '4.0 and up',\n",
       " '4.1 and up',\n",
       " '4.1 and up',\n",
       " '4.2 and up',\n",
       " '4.0.3 and up',\n",
       " '4.0.3 and up',\n",
       " 'Varies with device',\n",
       " '4.1 and up',\n",
       " '4.0 and up',\n",
       " '4.1 and up',\n",
       " '4.0 and up',\n",
       " '4.0 and up',\n",
       " '4.0 and up',\n",
       " '4.0 and up',\n",
       " '4.0.3 and up',\n",
       " '4.0 and up',\n",
       " '4.0 and up',\n",
       " '4.1 and up',\n",
       " '4.1 and up',\n",
       " '4.2 and up',\n",
       " 'Varies with device',\n",
       " 'Varies with device',\n",
       " '4.0 and up',\n",
       " '4.0 and up',\n",
       " '4.4 and up',\n",
       " '4.0 and up',\n",
       " '2.3 and up',\n",
       " '4.1 and up',\n",
       " '5.0 and up',\n",
       " '1.6 and up',\n",
       " '4.4 and up',\n",
       " 'Varies with device',\n",
       " '4.0.3 and up',\n",
       " '2.3 and up',\n",
       " '4.2 and up',\n",
       " '4.4 and up',\n",
       " '2.3 and up',\n",
       " '4.1 and up',\n",
       " '4.1 and up',\n",
       " '2.3 and up',\n",
       " '4.1 and up',\n",
       " 'Varies with device',\n",
       " '4.0.3 and up',\n",
       " '4.1 and up',\n",
       " 'Varies with device',\n",
       " '4.1 and up',\n",
       " '4.1 and up',\n",
       " 'Varies with device',\n",
       " '5.0 and up',\n",
       " 'Varies with device',\n",
       " '4.1 and up',\n",
       " 'Varies with device',\n",
       " '4.0.3 and up',\n",
       " 'Varies with device',\n",
       " '5.0 and up',\n",
       " '4.1 and up',\n",
       " '4.1 and up',\n",
       " 'Varies with device',\n",
       " 'Varies with device',\n",
       " '4.0 and up',\n",
       " '2.3 and up',\n",
       " '2.3 and up',\n",
       " '2.3 and up',\n",
       " '5.0 and up',\n",
       " '5.0 and up',\n",
       " '4.0 and up',\n",
       " 'Varies with device',\n",
       " '4.0 and up',\n",
       " '4.0 and up',\n",
       " '4.0 and up',\n",
       " '4.1 and up',\n",
       " '4.0 and up',\n",
       " '4.4 and up',\n",
       " '4.1 and up',\n",
       " '4.4 and up',\n",
       " '2.2 and up',\n",
       " '2.3.3 and up',\n",
       " '2.1 and up',\n",
       " 'Varies with device',\n",
       " '2.3.3 and up',\n",
       " '4.0 and up',\n",
       " 'Varies with device',\n",
       " '2.1 and up',\n",
       " '4.1 and up',\n",
       " 'Varies with device',\n",
       " '4.0 and up',\n",
       " 'Varies with device',\n",
       " 'Varies with device',\n",
       " 'Varies with device',\n",
       " '4.1 and up',\n",
       " '4.1 and up',\n",
       " 'Varies with device',\n",
       " 'Varies with device',\n",
       " 'Varies with device',\n",
       " '5.0 and up',\n",
       " '5.0 and up',\n",
       " '4.1 and up',\n",
       " '5.0 and up',\n",
       " 'Varies with device',\n",
       " '4.1 and up',\n",
       " 'Varies with device',\n",
       " 'Varies with device',\n",
       " '4.4 and up',\n",
       " '4.4 and up',\n",
       " 'Varies with device',\n",
       " '4.1 and up',\n",
       " 'Varies with device',\n",
       " '4.0 and up',\n",
       " '5.0 and up',\n",
       " '4.4 and up',\n",
       " '4.2 and up',\n",
       " '4.1 and up',\n",
       " '4.0 and up',\n",
       " 'Varies with device',\n",
       " '4.0 and up',\n",
       " '5.0 and up',\n",
       " 'Varies with device',\n",
       " '2.3 and up',\n",
       " '4.0.3 and up',\n",
       " '4.0 and up',\n",
       " '2.3 and up',\n",
       " 'Varies with device',\n",
       " '4.0.3 and up',\n",
       " '2.3 and up',\n",
       " '4.0 and up',\n",
       " 'Varies with device',\n",
       " 'Varies with device',\n",
       " '4.0.3 and up',\n",
       " '3.2 and up',\n",
       " '4.4 and up',\n",
       " 'Varies with device',\n",
       " 'Varies with device',\n",
       " '4.1 and up',\n",
       " 'Varies with device',\n",
       " '3.0 and up',\n",
       " '4.0 and up',\n",
       " '4.1 and up',\n",
       " '4.2 and up',\n",
       " '5.0 and up',\n",
       " 'Varies with device',\n",
       " '4.4 and up',\n",
       " '3.0 and up',\n",
       " '5.0 and up',\n",
       " 'Varies with device',\n",
       " '4.4 and up',\n",
       " 'Varies with device',\n",
       " 'Varies with device',\n",
       " '4.1 and up',\n",
       " '4.0 and up',\n",
       " 'Varies with device',\n",
       " '4.1 and up',\n",
       " '4.1 and up',\n",
       " 'Varies with device',\n",
       " '5.0 and up',\n",
       " '5.0 and up',\n",
       " '4.0.3 and up',\n",
       " '4.1 and up',\n",
       " '4.1 and up',\n",
       " '4.0.3 and up',\n",
       " '4.1 and up',\n",
       " '4.4 and up',\n",
       " '4.4 and up',\n",
       " 'Varies with device',\n",
       " '4.0.3 and up',\n",
       " 'Varies with device',\n",
       " '4.1 and up',\n",
       " '4.1 and up',\n",
       " '5.0 and up',\n",
       " 'Varies with device',\n",
       " '6.0 and up',\n",
       " '4.2 and up',\n",
       " '4.0.3 and up',\n",
       " 'Varies with device',\n",
       " 'Varies with device',\n",
       " 'Varies with device',\n",
       " '4.0 and up',\n",
       " 'Varies with device',\n",
       " '2.3.3 and up',\n",
       " '4.0.3 and up',\n",
       " '4.1 and up',\n",
       " 'Varies with device',\n",
       " '4.1 and up',\n",
       " 'Varies with device',\n",
       " '4.2 and up',\n",
       " '4.2 and up',\n",
       " 'Varies with device',\n",
       " '4.1 and up',\n",
       " '4.1 and up',\n",
       " '4.1 and up',\n",
       " '4.0.3 and up',\n",
       " '4.4 and up',\n",
       " '4.1 and up',\n",
       " 'Varies with device',\n",
       " '4.1 and up',\n",
       " '4.4 and up',\n",
       " 'Varies with device',\n",
       " 'Varies with device',\n",
       " '4.3 and up',\n",
       " '4.1 and up',\n",
       " '4.1 and up',\n",
       " '4.1 and up',\n",
       " 'Varies with device',\n",
       " '4.2 and up',\n",
       " '5.0 and up',\n",
       " 'Varies with device',\n",
       " '4.4 and up',\n",
       " 'Varies with device',\n",
       " '6.0 and up',\n",
       " '4.1 and up',\n",
       " '5.0 and up',\n",
       " 'Varies with device',\n",
       " 'Varies with device',\n",
       " 'Varies with device',\n",
       " 'Varies with device',\n",
       " '4.1 and up',\n",
       " 'Varies with device',\n",
       " '4.4 and up',\n",
       " 'Varies with device',\n",
       " '4.1 and up',\n",
       " 'Varies with device',\n",
       " '4.1 and up',\n",
       " 'Varies with device',\n",
       " '4.4 and up',\n",
       " '4.4 and up',\n",
       " '4.4 and up',\n",
       " '4.4 and up',\n",
       " '4.4 and up',\n",
       " '4.4 and up',\n",
       " '4.4 and up',\n",
       " '4.4 and up',\n",
       " '5.0 and up',\n",
       " 'Varies with device',\n",
       " 'Varies with device',\n",
       " 'Varies with device',\n",
       " '4.4 and up',\n",
       " '4.0.3 and up',\n",
       " '4.4 and up',\n",
       " 'Varies with device',\n",
       " 'Varies with device',\n",
       " '4.1 and up',\n",
       " 'Varies with device',\n",
       " 'Varies with device',\n",
       " 'Varies with device',\n",
       " '4.1 and up',\n",
       " '4.4 and up',\n",
       " '5.0 and up',\n",
       " '4.4 and up',\n",
       " '4.4 and up',\n",
       " '4.4 and up',\n",
       " '4.1 and up',\n",
       " '4.4 and up',\n",
       " 'Varies with device',\n",
       " '4.1 and up',\n",
       " '4.4 and up',\n",
       " '4.4 and up',\n",
       " '4.4 and up',\n",
       " '4.4 and up',\n",
       " '4.4 and up',\n",
       " '4.4 and up',\n",
       " '5.0 and up',\n",
       " '4.1 and up',\n",
       " 'Varies with device',\n",
       " 'Varies with device',\n",
       " '4.4 and up',\n",
       " '4.4 and up',\n",
       " 'Varies with device',\n",
       " '4.1 and up',\n",
       " 'Varies with device',\n",
       " 'Varies with device',\n",
       " 'Varies with device',\n",
       " '4.4 and up',\n",
       " 'Varies with device',\n",
       " '5.0 and up',\n",
       " 'Varies with device',\n",
       " '4.4 and up',\n",
       " '4.4 and up',\n",
       " 'Varies with device',\n",
       " '4.4 and up',\n",
       " 'Varies with device',\n",
       " '4.4 and up',\n",
       " '5.0 and up',\n",
       " 'Varies with device',\n",
       " 'Varies with device',\n",
       " '4.3 and up',\n",
       " '4.4 and up',\n",
       " '4.4 and up',\n",
       " 'Varies with device',\n",
       " '4.4 and up',\n",
       " '4.4 and up',\n",
       " '4.4 and up',\n",
       " '4.4 and up',\n",
       " '4.4 and up',\n",
       " '4.4 and up',\n",
       " '4.4 and up',\n",
       " '4.2 and up',\n",
       " 'Varies with device',\n",
       " 'Varies with device',\n",
       " '6.0 and up',\n",
       " '4.0.3 and up',\n",
       " '4.4 and up',\n",
       " 'Varies with device',\n",
       " '5.0 and up',\n",
       " 'Varies with device',\n",
       " 'Varies with device',\n",
       " '4.0 and up',\n",
       " '2.3.3 and up',\n",
       " '2.3 and up',\n",
       " ...]"
      ]
     },
     "execution_count": 5,
     "metadata": {},
     "output_type": "execute_result"
    }
   ],
   "source": [
    "a = [i for i in df_play['Android Ver']]\n",
    "a\n",
    "\n",
    "    "
   ]
  },
  {
   "cell_type": "code",
   "execution_count": 15,
   "metadata": {},
   "outputs": [
    {
     "data": {
      "text/plain": [
       "0    4.1 and up\n",
       "dtype: object"
      ]
     },
     "execution_count": 15,
     "metadata": {},
     "output_type": "execute_result"
    }
   ],
   "source": [
    "# Checking the mode of the column 'Android Ver'.\n",
    "\n",
    "df_play['Android Ver'].mode()"
   ]
  },
  {
   "cell_type": "code",
   "execution_count": 16,
   "metadata": {},
   "outputs": [],
   "source": [
    "# Replacing the missing values with the mode.\n",
    "\n",
    "df_play['Android Ver'] = df_play['Android Ver'].fillna(df_play['Android Ver'].mode()[0])"
   ]
  },
  {
   "cell_type": "code",
   "execution_count": 17,
   "metadata": {},
   "outputs": [
    {
     "name": "stdout",
     "output_type": "stream",
     "text": [
      "Count of missing values in Android Ver : 0\n"
     ]
    }
   ],
   "source": [
    "# Again checking the missing values after treating the same.\n",
    "\n",
    "print(f\"Count of missing values in Android Ver : {df_play['Android Ver'].isnull().sum()}\")"
   ]
  },
  {
   "cell_type": "markdown",
   "metadata": {},
   "source": [
    "##### c. Current ver – replace with most common value"
   ]
  },
  {
   "cell_type": "code",
   "execution_count": 18,
   "metadata": {},
   "outputs": [
    {
     "data": {
      "text/plain": [
       "4"
      ]
     },
     "execution_count": 18,
     "metadata": {},
     "output_type": "execute_result"
    }
   ],
   "source": [
    "# Checking the missing value in column 'Current ver'\n",
    "\n",
    "df_play['Current Ver'].isnull().sum()"
   ]
  },
  {
   "cell_type": "markdown",
   "metadata": {},
   "source": [
    "    The count of missing values is 4 in column 'Current Ver'."
   ]
  },
  {
   "cell_type": "code",
   "execution_count": 19,
   "metadata": {},
   "outputs": [],
   "source": [
    "# Replacing the Nan values with the most common value i.e. mode.\n",
    "\n",
    "df_play['Current Ver'] = df_play['Current Ver'].fillna(df_play['Current Ver'].mode()[0])"
   ]
  },
  {
   "cell_type": "code",
   "execution_count": 20,
   "metadata": {},
   "outputs": [
    {
     "name": "stdout",
     "output_type": "stream",
     "text": [
      "Count of missing values in Android Ver : 0\n"
     ]
    }
   ],
   "source": [
    "# Again checking the missing values after treating the same.\n",
    "\n",
    "print(f\"Count of missing values in Android Ver : {df_play['Current Ver'].isnull().sum()}\")"
   ]
  },
  {
   "cell_type": "markdown",
   "metadata": {},
   "source": [
    "    The missing values have been treated."
   ]
  },
  {
   "cell_type": "markdown",
   "metadata": {},
   "source": [
    "### 2. Data clean up – correcting the data types"
   ]
  },
  {
   "cell_type": "markdown",
   "metadata": {},
   "source": [
    "##### a. Which all variables need to be brought to numeric types?"
   ]
  },
  {
   "cell_type": "markdown",
   "metadata": {},
   "source": [
    "    All the varaibles except 'Rating and 'Size' which is of float64 data type are of object datatype."
   ]
  },
  {
   "cell_type": "code",
   "execution_count": 21,
   "metadata": {},
   "outputs": [
    {
     "data": {
      "text/html": [
       "<div>\n",
       "<style scoped>\n",
       "    .dataframe tbody tr th:only-of-type {\n",
       "        vertical-align: middle;\n",
       "    }\n",
       "\n",
       "    .dataframe tbody tr th {\n",
       "        vertical-align: top;\n",
       "    }\n",
       "\n",
       "    .dataframe thead th {\n",
       "        text-align: right;\n",
       "    }\n",
       "</style>\n",
       "<table border=\"1\" class=\"dataframe\">\n",
       "  <thead>\n",
       "    <tr style=\"text-align: right;\">\n",
       "      <th></th>\n",
       "      <th>App</th>\n",
       "      <th>Category</th>\n",
       "      <th>Reviews</th>\n",
       "      <th>Installs</th>\n",
       "      <th>Type</th>\n",
       "      <th>Price</th>\n",
       "      <th>Content Rating</th>\n",
       "      <th>Genres</th>\n",
       "      <th>Last Updated</th>\n",
       "      <th>Current Ver</th>\n",
       "      <th>Android Ver</th>\n",
       "    </tr>\n",
       "  </thead>\n",
       "  <tbody>\n",
       "    <tr>\n",
       "      <th>0</th>\n",
       "      <td>Photo Editor &amp; Candy Camera &amp; Grid &amp; ScrapBook</td>\n",
       "      <td>ART_AND_DESIGN</td>\n",
       "      <td>159</td>\n",
       "      <td>10,000+</td>\n",
       "      <td>Free</td>\n",
       "      <td>0</td>\n",
       "      <td>Everyone</td>\n",
       "      <td>Art &amp; Design</td>\n",
       "      <td>January 7, 2018</td>\n",
       "      <td>1.0.0</td>\n",
       "      <td>4.0.3 and up</td>\n",
       "    </tr>\n",
       "    <tr>\n",
       "      <th>1</th>\n",
       "      <td>Coloring book moana</td>\n",
       "      <td>ART_AND_DESIGN</td>\n",
       "      <td>967</td>\n",
       "      <td>500,000+</td>\n",
       "      <td>Free</td>\n",
       "      <td>0</td>\n",
       "      <td>Everyone</td>\n",
       "      <td>Art &amp; Design;Pretend Play</td>\n",
       "      <td>January 15, 2018</td>\n",
       "      <td>2.0.0</td>\n",
       "      <td>4.0.3 and up</td>\n",
       "    </tr>\n",
       "    <tr>\n",
       "      <th>2</th>\n",
       "      <td>U Launcher Lite – FREE Live Cool Themes, Hide ...</td>\n",
       "      <td>ART_AND_DESIGN</td>\n",
       "      <td>87510</td>\n",
       "      <td>5,000,000+</td>\n",
       "      <td>Free</td>\n",
       "      <td>0</td>\n",
       "      <td>Everyone</td>\n",
       "      <td>Art &amp; Design</td>\n",
       "      <td>August 1, 2018</td>\n",
       "      <td>1.2.4</td>\n",
       "      <td>4.0.3 and up</td>\n",
       "    </tr>\n",
       "    <tr>\n",
       "      <th>3</th>\n",
       "      <td>Sketch - Draw &amp; Paint</td>\n",
       "      <td>ART_AND_DESIGN</td>\n",
       "      <td>215644</td>\n",
       "      <td>50,000,000+</td>\n",
       "      <td>Free</td>\n",
       "      <td>0</td>\n",
       "      <td>Teen</td>\n",
       "      <td>Art &amp; Design</td>\n",
       "      <td>June 8, 2018</td>\n",
       "      <td>Varies with device</td>\n",
       "      <td>4.2 and up</td>\n",
       "    </tr>\n",
       "    <tr>\n",
       "      <th>4</th>\n",
       "      <td>Pixel Draw - Number Art Coloring Book</td>\n",
       "      <td>ART_AND_DESIGN</td>\n",
       "      <td>967</td>\n",
       "      <td>100,000+</td>\n",
       "      <td>Free</td>\n",
       "      <td>0</td>\n",
       "      <td>Everyone</td>\n",
       "      <td>Art &amp; Design;Creativity</td>\n",
       "      <td>June 20, 2018</td>\n",
       "      <td>1.1</td>\n",
       "      <td>4.4 and up</td>\n",
       "    </tr>\n",
       "  </tbody>\n",
       "</table>\n",
       "</div>"
      ],
      "text/plain": [
       "                                                 App        Category Reviews  \\\n",
       "0     Photo Editor & Candy Camera & Grid & ScrapBook  ART_AND_DESIGN     159   \n",
       "1                                Coloring book moana  ART_AND_DESIGN     967   \n",
       "2  U Launcher Lite – FREE Live Cool Themes, Hide ...  ART_AND_DESIGN   87510   \n",
       "3                              Sketch - Draw & Paint  ART_AND_DESIGN  215644   \n",
       "4              Pixel Draw - Number Art Coloring Book  ART_AND_DESIGN     967   \n",
       "\n",
       "      Installs  Type Price Content Rating                     Genres  \\\n",
       "0      10,000+  Free     0       Everyone               Art & Design   \n",
       "1     500,000+  Free     0       Everyone  Art & Design;Pretend Play   \n",
       "2   5,000,000+  Free     0       Everyone               Art & Design   \n",
       "3  50,000,000+  Free     0           Teen               Art & Design   \n",
       "4     100,000+  Free     0       Everyone    Art & Design;Creativity   \n",
       "\n",
       "       Last Updated         Current Ver   Android Ver  \n",
       "0   January 7, 2018               1.0.0  4.0.3 and up  \n",
       "1  January 15, 2018               2.0.0  4.0.3 and up  \n",
       "2    August 1, 2018               1.2.4  4.0.3 and up  \n",
       "3      June 8, 2018  Varies with device    4.2 and up  \n",
       "4     June 20, 2018                 1.1    4.4 and up  "
      ]
     },
     "execution_count": 21,
     "metadata": {},
     "output_type": "execute_result"
    }
   ],
   "source": [
    "# Now, only checking the columns having object datatype.\n",
    "\n",
    "obj_col = df_play.select_dtypes(include = object)\n",
    "obj_col.head()"
   ]
  },
  {
   "cell_type": "code",
   "execution_count": 22,
   "metadata": {},
   "outputs": [
    {
     "data": {
      "text/plain": [
       "11"
      ]
     },
     "execution_count": 22,
     "metadata": {},
     "output_type": "execute_result"
    }
   ],
   "source": [
    "# Checking the total columns having object datatype.\n",
    "\n",
    "obj_col.shape[1]"
   ]
  },
  {
   "cell_type": "markdown",
   "metadata": {},
   "source": [
    "    There are total 11 variables having object datatype."
   ]
  },
  {
   "cell_type": "markdown",
   "metadata": {},
   "source": [
    "*'Reviews', 'Installs' and 'Price' should be converted into numeric form.*"
   ]
  },
  {
   "cell_type": "markdown",
   "metadata": {},
   "source": [
    "##### b. Price variable – remove $ sign and convert to float"
   ]
  },
  {
   "cell_type": "code",
   "execution_count": 23,
   "metadata": {},
   "outputs": [],
   "source": [
    "# Removing the $ sign.\n",
    "\n",
    "df_play['Price'] = df_play['Price'].replace('[\\$,]', '', regex = True)"
   ]
  },
  {
   "cell_type": "code",
   "execution_count": 24,
   "metadata": {},
   "outputs": [],
   "source": [
    "# Converting the variable data type from object to float\n",
    "\n",
    "df_play['Price'] = df_play['Price'].astype('float')"
   ]
  },
  {
   "cell_type": "code",
   "execution_count": 25,
   "metadata": {},
   "outputs": [
    {
     "data": {
      "text/plain": [
       "dtype('float64')"
      ]
     },
     "execution_count": 25,
     "metadata": {},
     "output_type": "execute_result"
    }
   ],
   "source": [
    "# Checking the datatype after converting the same.\n",
    "\n",
    "df_play['Price'].dtype"
   ]
  },
  {
   "cell_type": "markdown",
   "metadata": {},
   "source": [
    "    The 'Price' variable has been cleaned and converted into numeric as well."
   ]
  },
  {
   "cell_type": "markdown",
   "metadata": {},
   "source": [
    "##### c. Installs – remove ‘,’ and ‘+’ sign, convert to integer"
   ]
  },
  {
   "cell_type": "code",
   "execution_count": 26,
   "metadata": {},
   "outputs": [],
   "source": [
    "# Removing ‘,’ and ‘+’ sign.\n",
    "\n",
    "df_play['Installs'] = df_play['Installs'].str.replace(',','').str.replace('+','')"
   ]
  },
  {
   "cell_type": "code",
   "execution_count": 27,
   "metadata": {},
   "outputs": [],
   "source": [
    "# Converting the variable data type from object to integer\n",
    "\n",
    "df_play['Installs'] = df_play['Installs'].astype('int')"
   ]
  },
  {
   "cell_type": "code",
   "execution_count": 28,
   "metadata": {},
   "outputs": [
    {
     "data": {
      "text/plain": [
       "dtype('int32')"
      ]
     },
     "execution_count": 28,
     "metadata": {},
     "output_type": "execute_result"
    }
   ],
   "source": [
    "# Checking the datatype after converting the same.\n",
    "\n",
    "df_play['Installs'].dtype"
   ]
  },
  {
   "cell_type": "markdown",
   "metadata": {},
   "source": [
    "##### d. Convert all other identified columns to numeric"
   ]
  },
  {
   "cell_type": "code",
   "execution_count": 29,
   "metadata": {},
   "outputs": [],
   "source": [
    "# Converting the data type of 'Reviews' into integer\n",
    "\n",
    "df_play['Reviews'] = df_play['Reviews'].astype('int')"
   ]
  },
  {
   "cell_type": "code",
   "execution_count": 30,
   "metadata": {},
   "outputs": [
    {
     "data": {
      "text/plain": [
       "dtype('int32')"
      ]
     },
     "execution_count": 30,
     "metadata": {},
     "output_type": "execute_result"
    }
   ],
   "source": [
    "# Checking the datatype after converting the same.\n",
    "\n",
    "df_play['Reviews'].dtype"
   ]
  },
  {
   "cell_type": "code",
   "execution_count": 31,
   "metadata": {},
   "outputs": [
    {
     "data": {
      "text/plain": [
       "(9366, 13)"
      ]
     },
     "execution_count": 31,
     "metadata": {},
     "output_type": "execute_result"
    }
   ],
   "source": [
    "# CHecking the shape of the dataset after data cleaning\n",
    "\n",
    "df_play.shape"
   ]
  },
  {
   "cell_type": "code",
   "execution_count": 32,
   "metadata": {},
   "outputs": [],
   "source": [
    "# Additional conversion\n",
    "\n",
    "# data2_new['Last Updated'] = data2_new['Last Updated'].astype('datetime64[ns]')"
   ]
  },
  {
   "cell_type": "markdown",
   "metadata": {},
   "source": [
    "### 3. Sanity checks – check for the following and handle accordingly"
   ]
  },
  {
   "cell_type": "markdown",
   "metadata": {},
   "source": [
    "#### a. Avg. rating should be between 1 and 5, as only these values are allowed on the play store.\n",
    "*i. Are there any such records? Drop if so*"
   ]
  },
  {
   "cell_type": "code",
   "execution_count": 33,
   "metadata": {},
   "outputs": [
    {
     "data": {
      "text/html": [
       "<div>\n",
       "<style scoped>\n",
       "    .dataframe tbody tr th:only-of-type {\n",
       "        vertical-align: middle;\n",
       "    }\n",
       "\n",
       "    .dataframe tbody tr th {\n",
       "        vertical-align: top;\n",
       "    }\n",
       "\n",
       "    .dataframe thead th {\n",
       "        text-align: right;\n",
       "    }\n",
       "</style>\n",
       "<table border=\"1\" class=\"dataframe\">\n",
       "  <thead>\n",
       "    <tr style=\"text-align: right;\">\n",
       "      <th></th>\n",
       "      <th>App</th>\n",
       "      <th>Category</th>\n",
       "      <th>Rating</th>\n",
       "      <th>Reviews</th>\n",
       "      <th>Size</th>\n",
       "      <th>Installs</th>\n",
       "      <th>Type</th>\n",
       "      <th>Price</th>\n",
       "      <th>Content Rating</th>\n",
       "      <th>Genres</th>\n",
       "      <th>Last Updated</th>\n",
       "      <th>Current Ver</th>\n",
       "      <th>Android Ver</th>\n",
       "    </tr>\n",
       "  </thead>\n",
       "  <tbody>\n",
       "  </tbody>\n",
       "</table>\n",
       "</div>"
      ],
      "text/plain": [
       "Empty DataFrame\n",
       "Columns: [App, Category, Rating, Reviews, Size, Installs, Type, Price, Content Rating, Genres, Last Updated, Current Ver, Android Ver]\n",
       "Index: []"
      ]
     },
     "execution_count": 33,
     "metadata": {},
     "output_type": "execute_result"
    }
   ],
   "source": [
    "# Checking whether any record have ratingsless then 1 and more than 5.\n",
    "\n",
    "df_play[((df_play['Rating'] < 1) & (df_play['Rating'] > 5))]"
   ]
  },
  {
   "cell_type": "markdown",
   "metadata": {},
   "source": [
    "    There are no records having ratings less than 1 and more than 5."
   ]
  },
  {
   "cell_type": "markdown",
   "metadata": {},
   "source": [
    "##### b. Reviews should not be more than installs as only those who installed can review the app.\n",
    "*i. Are there any such records? Drop if so.*"
   ]
  },
  {
   "cell_type": "code",
   "execution_count": 34,
   "metadata": {},
   "outputs": [
    {
     "data": {
      "text/html": [
       "<div>\n",
       "<style scoped>\n",
       "    .dataframe tbody tr th:only-of-type {\n",
       "        vertical-align: middle;\n",
       "    }\n",
       "\n",
       "    .dataframe tbody tr th {\n",
       "        vertical-align: top;\n",
       "    }\n",
       "\n",
       "    .dataframe thead th {\n",
       "        text-align: right;\n",
       "    }\n",
       "</style>\n",
       "<table border=\"1\" class=\"dataframe\">\n",
       "  <thead>\n",
       "    <tr style=\"text-align: right;\">\n",
       "      <th></th>\n",
       "      <th>App</th>\n",
       "      <th>Category</th>\n",
       "      <th>Rating</th>\n",
       "      <th>Reviews</th>\n",
       "      <th>Size</th>\n",
       "      <th>Installs</th>\n",
       "      <th>Type</th>\n",
       "      <th>Price</th>\n",
       "      <th>Content Rating</th>\n",
       "      <th>Genres</th>\n",
       "      <th>Last Updated</th>\n",
       "      <th>Current Ver</th>\n",
       "      <th>Android Ver</th>\n",
       "    </tr>\n",
       "  </thead>\n",
       "  <tbody>\n",
       "    <tr>\n",
       "      <th>2454</th>\n",
       "      <td>KBA-EZ Health Guide</td>\n",
       "      <td>MEDICAL</td>\n",
       "      <td>5.0</td>\n",
       "      <td>4</td>\n",
       "      <td>25000.000000</td>\n",
       "      <td>1</td>\n",
       "      <td>Free</td>\n",
       "      <td>0.00</td>\n",
       "      <td>Everyone</td>\n",
       "      <td>Medical</td>\n",
       "      <td>August 2, 2018</td>\n",
       "      <td>1.0.72</td>\n",
       "      <td>4.0.3 and up</td>\n",
       "    </tr>\n",
       "    <tr>\n",
       "      <th>4663</th>\n",
       "      <td>Alarmy (Sleep If U Can) - Pro</td>\n",
       "      <td>LIFESTYLE</td>\n",
       "      <td>4.8</td>\n",
       "      <td>10249</td>\n",
       "      <td>21516.529524</td>\n",
       "      <td>10000</td>\n",
       "      <td>Paid</td>\n",
       "      <td>2.49</td>\n",
       "      <td>Everyone</td>\n",
       "      <td>Lifestyle</td>\n",
       "      <td>July 30, 2018</td>\n",
       "      <td>Varies with device</td>\n",
       "      <td>Varies with device</td>\n",
       "    </tr>\n",
       "    <tr>\n",
       "      <th>5917</th>\n",
       "      <td>Ra Ga Ba</td>\n",
       "      <td>GAME</td>\n",
       "      <td>5.0</td>\n",
       "      <td>2</td>\n",
       "      <td>20000.000000</td>\n",
       "      <td>1</td>\n",
       "      <td>Paid</td>\n",
       "      <td>1.49</td>\n",
       "      <td>Everyone</td>\n",
       "      <td>Arcade</td>\n",
       "      <td>February 8, 2017</td>\n",
       "      <td>1.0.4</td>\n",
       "      <td>2.3 and up</td>\n",
       "    </tr>\n",
       "    <tr>\n",
       "      <th>6700</th>\n",
       "      <td>Brick Breaker BR</td>\n",
       "      <td>GAME</td>\n",
       "      <td>5.0</td>\n",
       "      <td>7</td>\n",
       "      <td>19000.000000</td>\n",
       "      <td>5</td>\n",
       "      <td>Free</td>\n",
       "      <td>0.00</td>\n",
       "      <td>Everyone</td>\n",
       "      <td>Arcade</td>\n",
       "      <td>July 23, 2018</td>\n",
       "      <td>1.0</td>\n",
       "      <td>4.1 and up</td>\n",
       "    </tr>\n",
       "    <tr>\n",
       "      <th>7402</th>\n",
       "      <td>Trovami se ci riesci</td>\n",
       "      <td>GAME</td>\n",
       "      <td>5.0</td>\n",
       "      <td>11</td>\n",
       "      <td>6100.000000</td>\n",
       "      <td>10</td>\n",
       "      <td>Free</td>\n",
       "      <td>0.00</td>\n",
       "      <td>Everyone</td>\n",
       "      <td>Arcade</td>\n",
       "      <td>March 11, 2017</td>\n",
       "      <td>0.1</td>\n",
       "      <td>2.3 and up</td>\n",
       "    </tr>\n",
       "    <tr>\n",
       "      <th>8591</th>\n",
       "      <td>DN Blog</td>\n",
       "      <td>SOCIAL</td>\n",
       "      <td>5.0</td>\n",
       "      <td>20</td>\n",
       "      <td>4200.000000</td>\n",
       "      <td>10</td>\n",
       "      <td>Free</td>\n",
       "      <td>0.00</td>\n",
       "      <td>Teen</td>\n",
       "      <td>Social</td>\n",
       "      <td>July 23, 2018</td>\n",
       "      <td>1.0</td>\n",
       "      <td>4.0 and up</td>\n",
       "    </tr>\n",
       "    <tr>\n",
       "      <th>10697</th>\n",
       "      <td>Mu.F.O.</td>\n",
       "      <td>GAME</td>\n",
       "      <td>5.0</td>\n",
       "      <td>2</td>\n",
       "      <td>16000.000000</td>\n",
       "      <td>1</td>\n",
       "      <td>Paid</td>\n",
       "      <td>0.99</td>\n",
       "      <td>Everyone</td>\n",
       "      <td>Arcade</td>\n",
       "      <td>March 3, 2017</td>\n",
       "      <td>1.0</td>\n",
       "      <td>2.3 and up</td>\n",
       "    </tr>\n",
       "  </tbody>\n",
       "</table>\n",
       "</div>"
      ],
      "text/plain": [
       "                                 App   Category  Rating  Reviews  \\\n",
       "2454             KBA-EZ Health Guide    MEDICAL     5.0        4   \n",
       "4663   Alarmy (Sleep If U Can) - Pro  LIFESTYLE     4.8    10249   \n",
       "5917                        Ra Ga Ba       GAME     5.0        2   \n",
       "6700                Brick Breaker BR       GAME     5.0        7   \n",
       "7402            Trovami se ci riesci       GAME     5.0       11   \n",
       "8591                         DN Blog     SOCIAL     5.0       20   \n",
       "10697                        Mu.F.O.       GAME     5.0        2   \n",
       "\n",
       "               Size  Installs  Type  Price Content Rating     Genres  \\\n",
       "2454   25000.000000         1  Free   0.00       Everyone    Medical   \n",
       "4663   21516.529524     10000  Paid   2.49       Everyone  Lifestyle   \n",
       "5917   20000.000000         1  Paid   1.49       Everyone     Arcade   \n",
       "6700   19000.000000         5  Free   0.00       Everyone     Arcade   \n",
       "7402    6100.000000        10  Free   0.00       Everyone     Arcade   \n",
       "8591    4200.000000        10  Free   0.00           Teen     Social   \n",
       "10697  16000.000000         1  Paid   0.99       Everyone     Arcade   \n",
       "\n",
       "           Last Updated         Current Ver         Android Ver  \n",
       "2454     August 2, 2018              1.0.72        4.0.3 and up  \n",
       "4663      July 30, 2018  Varies with device  Varies with device  \n",
       "5917   February 8, 2017               1.0.4          2.3 and up  \n",
       "6700      July 23, 2018                 1.0          4.1 and up  \n",
       "7402     March 11, 2017                 0.1          2.3 and up  \n",
       "8591      July 23, 2018                 1.0          4.0 and up  \n",
       "10697     March 3, 2017                 1.0          2.3 and up  "
      ]
     },
     "execution_count": 34,
     "metadata": {},
     "output_type": "execute_result"
    }
   ],
   "source": [
    "# Checking whether there is any record having reviews more than installs of the application.\n",
    "\n",
    "df_play[(df_play['Reviews'] > df_play['Installs'])]"
   ]
  },
  {
   "cell_type": "markdown",
   "metadata": {},
   "source": [
    "    So, there are 7 records in total having reviews more than installation of the application."
   ]
  },
  {
   "cell_type": "code",
   "execution_count": 35,
   "metadata": {},
   "outputs": [],
   "source": [
    "# dropping the above records found\n",
    "\n",
    "df_play.drop(df_play[(df_play['Reviews'] > df_play['Installs'])].index, inplace = True)"
   ]
  },
  {
   "cell_type": "code",
   "execution_count": 36,
   "metadata": {},
   "outputs": [
    {
     "data": {
      "text/plain": [
       "0"
      ]
     },
     "execution_count": 36,
     "metadata": {},
     "output_type": "execute_result"
    }
   ],
   "source": [
    "# Checking whether the records are dropped or not.\n",
    "\n",
    "(df_play['Reviews'] > df_play['Installs']).sum()"
   ]
  },
  {
   "cell_type": "code",
   "execution_count": 37,
   "metadata": {},
   "outputs": [
    {
     "data": {
      "text/plain": [
       "(9359, 13)"
      ]
     },
     "execution_count": 37,
     "metadata": {},
     "output_type": "execute_result"
    }
   ],
   "source": [
    "# Now, again checking the shape of the dataset after the above operation\n",
    "\n",
    "df_play.shape"
   ]
  },
  {
   "cell_type": "markdown",
   "metadata": {},
   "source": [
    "### 4. Identify and handle outliers – \n",
    "##### a. Price column\n",
    "*i. Make suitable plot to identify outliers in price*"
   ]
  },
  {
   "cell_type": "code",
   "execution_count": 38,
   "metadata": {},
   "outputs": [
    {
     "data": {
      "image/png": "[encoded data removed]",
      "text/plain": [
       "<Figure size 576x288 with 1 Axes>"
      ]
     },
     "metadata": {
      "needs_background": "light"
     },
     "output_type": "display_data"
    }
   ],
   "source": [
    "# Visualizing outliers in 'Price' using boxplot.\n",
    "\n",
    "plt.figure(figsize=(8,4))\n",
    "\n",
    "sns.boxplot(df_play['Price'], data = df_play)\n",
    "plt.show()"
   ]
  },
  {
   "cell_type": "markdown",
   "metadata": {},
   "source": [
    "*ii. Do you expect apps on the play store to cost $200? Check out these cases*"
   ]
  },
  {
   "cell_type": "code",
   "execution_count": 39,
   "metadata": {},
   "outputs": [
    {
     "data": {
      "text/plain": [
       "0"
      ]
     },
     "execution_count": 39,
     "metadata": {},
     "output_type": "execute_result"
    }
   ],
   "source": [
    "# Checking the records where price of apps on play store is $200.\n",
    "\n",
    "(df_play['Price'] == 200).sum()"
   ]
  },
  {
   "cell_type": "markdown",
   "metadata": {},
   "source": [
    "    There are no records where the cost of apps on play store is equal to $200."
   ]
  },
  {
   "cell_type": "code",
   "execution_count": 40,
   "metadata": {},
   "outputs": [
    {
     "data": {
      "text/html": [
       "<div>\n",
       "<style scoped>\n",
       "    .dataframe tbody tr th:only-of-type {\n",
       "        vertical-align: middle;\n",
       "    }\n",
       "\n",
       "    .dataframe tbody tr th {\n",
       "        vertical-align: top;\n",
       "    }\n",
       "\n",
       "    .dataframe thead th {\n",
       "        text-align: right;\n",
       "    }\n",
       "</style>\n",
       "<table border=\"1\" class=\"dataframe\">\n",
       "  <thead>\n",
       "    <tr style=\"text-align: right;\">\n",
       "      <th></th>\n",
       "      <th>App</th>\n",
       "      <th>Category</th>\n",
       "      <th>Rating</th>\n",
       "      <th>Reviews</th>\n",
       "      <th>Size</th>\n",
       "      <th>Installs</th>\n",
       "      <th>Type</th>\n",
       "      <th>Price</th>\n",
       "      <th>Content Rating</th>\n",
       "      <th>Genres</th>\n",
       "      <th>Last Updated</th>\n",
       "      <th>Current Ver</th>\n",
       "      <th>Android Ver</th>\n",
       "    </tr>\n",
       "  </thead>\n",
       "  <tbody>\n",
       "    <tr>\n",
       "      <th>4197</th>\n",
       "      <td>most expensive app (H)</td>\n",
       "      <td>FAMILY</td>\n",
       "      <td>4.3</td>\n",
       "      <td>6</td>\n",
       "      <td>1500.0</td>\n",
       "      <td>100</td>\n",
       "      <td>Paid</td>\n",
       "      <td>399.99</td>\n",
       "      <td>Everyone</td>\n",
       "      <td>Entertainment</td>\n",
       "      <td>July 16, 2018</td>\n",
       "      <td>1.0</td>\n",
       "      <td>7.0 and up</td>\n",
       "    </tr>\n",
       "    <tr>\n",
       "      <th>4362</th>\n",
       "      <td>💎 I'm rich</td>\n",
       "      <td>LIFESTYLE</td>\n",
       "      <td>3.8</td>\n",
       "      <td>718</td>\n",
       "      <td>26000.0</td>\n",
       "      <td>10000</td>\n",
       "      <td>Paid</td>\n",
       "      <td>399.99</td>\n",
       "      <td>Everyone</td>\n",
       "      <td>Lifestyle</td>\n",
       "      <td>March 11, 2018</td>\n",
       "      <td>1.0.0</td>\n",
       "      <td>4.4 and up</td>\n",
       "    </tr>\n",
       "    <tr>\n",
       "      <th>4367</th>\n",
       "      <td>I'm Rich - Trump Edition</td>\n",
       "      <td>LIFESTYLE</td>\n",
       "      <td>3.6</td>\n",
       "      <td>275</td>\n",
       "      <td>7300.0</td>\n",
       "      <td>10000</td>\n",
       "      <td>Paid</td>\n",
       "      <td>400.00</td>\n",
       "      <td>Everyone</td>\n",
       "      <td>Lifestyle</td>\n",
       "      <td>May 3, 2018</td>\n",
       "      <td>1.0.1</td>\n",
       "      <td>4.1 and up</td>\n",
       "    </tr>\n",
       "    <tr>\n",
       "      <th>5351</th>\n",
       "      <td>I am rich</td>\n",
       "      <td>LIFESTYLE</td>\n",
       "      <td>3.8</td>\n",
       "      <td>3547</td>\n",
       "      <td>1800.0</td>\n",
       "      <td>100000</td>\n",
       "      <td>Paid</td>\n",
       "      <td>399.99</td>\n",
       "      <td>Everyone</td>\n",
       "      <td>Lifestyle</td>\n",
       "      <td>January 12, 2018</td>\n",
       "      <td>2.0</td>\n",
       "      <td>4.0.3 and up</td>\n",
       "    </tr>\n",
       "    <tr>\n",
       "      <th>5354</th>\n",
       "      <td>I am Rich Plus</td>\n",
       "      <td>FAMILY</td>\n",
       "      <td>4.0</td>\n",
       "      <td>856</td>\n",
       "      <td>8700.0</td>\n",
       "      <td>10000</td>\n",
       "      <td>Paid</td>\n",
       "      <td>399.99</td>\n",
       "      <td>Everyone</td>\n",
       "      <td>Entertainment</td>\n",
       "      <td>May 19, 2018</td>\n",
       "      <td>3.0</td>\n",
       "      <td>4.4 and up</td>\n",
       "    </tr>\n",
       "    <tr>\n",
       "      <th>5355</th>\n",
       "      <td>I am rich VIP</td>\n",
       "      <td>LIFESTYLE</td>\n",
       "      <td>3.8</td>\n",
       "      <td>411</td>\n",
       "      <td>2600.0</td>\n",
       "      <td>10000</td>\n",
       "      <td>Paid</td>\n",
       "      <td>299.99</td>\n",
       "      <td>Everyone</td>\n",
       "      <td>Lifestyle</td>\n",
       "      <td>July 21, 2018</td>\n",
       "      <td>1.1.1</td>\n",
       "      <td>4.3 and up</td>\n",
       "    </tr>\n",
       "    <tr>\n",
       "      <th>5356</th>\n",
       "      <td>I Am Rich Premium</td>\n",
       "      <td>FINANCE</td>\n",
       "      <td>4.1</td>\n",
       "      <td>1867</td>\n",
       "      <td>4700.0</td>\n",
       "      <td>50000</td>\n",
       "      <td>Paid</td>\n",
       "      <td>399.99</td>\n",
       "      <td>Everyone</td>\n",
       "      <td>Finance</td>\n",
       "      <td>November 12, 2017</td>\n",
       "      <td>1.6</td>\n",
       "      <td>4.0 and up</td>\n",
       "    </tr>\n",
       "    <tr>\n",
       "      <th>5357</th>\n",
       "      <td>I am extremely Rich</td>\n",
       "      <td>LIFESTYLE</td>\n",
       "      <td>2.9</td>\n",
       "      <td>41</td>\n",
       "      <td>2900.0</td>\n",
       "      <td>1000</td>\n",
       "      <td>Paid</td>\n",
       "      <td>379.99</td>\n",
       "      <td>Everyone</td>\n",
       "      <td>Lifestyle</td>\n",
       "      <td>July 1, 2018</td>\n",
       "      <td>1.0</td>\n",
       "      <td>4.0 and up</td>\n",
       "    </tr>\n",
       "    <tr>\n",
       "      <th>5358</th>\n",
       "      <td>I am Rich!</td>\n",
       "      <td>FINANCE</td>\n",
       "      <td>3.8</td>\n",
       "      <td>93</td>\n",
       "      <td>22000.0</td>\n",
       "      <td>1000</td>\n",
       "      <td>Paid</td>\n",
       "      <td>399.99</td>\n",
       "      <td>Everyone</td>\n",
       "      <td>Finance</td>\n",
       "      <td>December 11, 2017</td>\n",
       "      <td>1.0</td>\n",
       "      <td>4.1 and up</td>\n",
       "    </tr>\n",
       "    <tr>\n",
       "      <th>5359</th>\n",
       "      <td>I am rich(premium)</td>\n",
       "      <td>FINANCE</td>\n",
       "      <td>3.5</td>\n",
       "      <td>472</td>\n",
       "      <td>965.0</td>\n",
       "      <td>5000</td>\n",
       "      <td>Paid</td>\n",
       "      <td>399.99</td>\n",
       "      <td>Everyone</td>\n",
       "      <td>Finance</td>\n",
       "      <td>May 1, 2017</td>\n",
       "      <td>3.4</td>\n",
       "      <td>4.4 and up</td>\n",
       "    </tr>\n",
       "    <tr>\n",
       "      <th>5362</th>\n",
       "      <td>I Am Rich Pro</td>\n",
       "      <td>FAMILY</td>\n",
       "      <td>4.4</td>\n",
       "      <td>201</td>\n",
       "      <td>2700.0</td>\n",
       "      <td>5000</td>\n",
       "      <td>Paid</td>\n",
       "      <td>399.99</td>\n",
       "      <td>Everyone</td>\n",
       "      <td>Entertainment</td>\n",
       "      <td>May 30, 2017</td>\n",
       "      <td>1.54</td>\n",
       "      <td>1.6 and up</td>\n",
       "    </tr>\n",
       "    <tr>\n",
       "      <th>5364</th>\n",
       "      <td>I am rich (Most expensive app)</td>\n",
       "      <td>FINANCE</td>\n",
       "      <td>4.1</td>\n",
       "      <td>129</td>\n",
       "      <td>2700.0</td>\n",
       "      <td>1000</td>\n",
       "      <td>Paid</td>\n",
       "      <td>399.99</td>\n",
       "      <td>Teen</td>\n",
       "      <td>Finance</td>\n",
       "      <td>December 6, 2017</td>\n",
       "      <td>2</td>\n",
       "      <td>4.0.3 and up</td>\n",
       "    </tr>\n",
       "    <tr>\n",
       "      <th>5366</th>\n",
       "      <td>I Am Rich</td>\n",
       "      <td>FAMILY</td>\n",
       "      <td>3.6</td>\n",
       "      <td>217</td>\n",
       "      <td>4900.0</td>\n",
       "      <td>10000</td>\n",
       "      <td>Paid</td>\n",
       "      <td>389.99</td>\n",
       "      <td>Everyone</td>\n",
       "      <td>Entertainment</td>\n",
       "      <td>June 22, 2018</td>\n",
       "      <td>1.5</td>\n",
       "      <td>4.2 and up</td>\n",
       "    </tr>\n",
       "    <tr>\n",
       "      <th>5369</th>\n",
       "      <td>I am Rich</td>\n",
       "      <td>FINANCE</td>\n",
       "      <td>4.3</td>\n",
       "      <td>180</td>\n",
       "      <td>3800.0</td>\n",
       "      <td>5000</td>\n",
       "      <td>Paid</td>\n",
       "      <td>399.99</td>\n",
       "      <td>Everyone</td>\n",
       "      <td>Finance</td>\n",
       "      <td>March 22, 2018</td>\n",
       "      <td>1.0</td>\n",
       "      <td>4.2 and up</td>\n",
       "    </tr>\n",
       "    <tr>\n",
       "      <th>5373</th>\n",
       "      <td>I AM RICH PRO PLUS</td>\n",
       "      <td>FINANCE</td>\n",
       "      <td>4.0</td>\n",
       "      <td>36</td>\n",
       "      <td>41000.0</td>\n",
       "      <td>1000</td>\n",
       "      <td>Paid</td>\n",
       "      <td>399.99</td>\n",
       "      <td>Everyone</td>\n",
       "      <td>Finance</td>\n",
       "      <td>June 25, 2018</td>\n",
       "      <td>1.0.2</td>\n",
       "      <td>4.1 and up</td>\n",
       "    </tr>\n",
       "  </tbody>\n",
       "</table>\n",
       "</div>"
      ],
      "text/plain": [
       "                                 App   Category  Rating  Reviews     Size  \\\n",
       "4197          most expensive app (H)     FAMILY     4.3        6   1500.0   \n",
       "4362                      💎 I'm rich  LIFESTYLE     3.8      718  26000.0   \n",
       "4367        I'm Rich - Trump Edition  LIFESTYLE     3.6      275   7300.0   \n",
       "5351                       I am rich  LIFESTYLE     3.8     3547   1800.0   \n",
       "5354                  I am Rich Plus     FAMILY     4.0      856   8700.0   \n",
       "5355                   I am rich VIP  LIFESTYLE     3.8      411   2600.0   \n",
       "5356               I Am Rich Premium    FINANCE     4.1     1867   4700.0   \n",
       "5357             I am extremely Rich  LIFESTYLE     2.9       41   2900.0   \n",
       "5358                      I am Rich!    FINANCE     3.8       93  22000.0   \n",
       "5359              I am rich(premium)    FINANCE     3.5      472    965.0   \n",
       "5362                   I Am Rich Pro     FAMILY     4.4      201   2700.0   \n",
       "5364  I am rich (Most expensive app)    FINANCE     4.1      129   2700.0   \n",
       "5366                       I Am Rich     FAMILY     3.6      217   4900.0   \n",
       "5369                       I am Rich    FINANCE     4.3      180   3800.0   \n",
       "5373              I AM RICH PRO PLUS    FINANCE     4.0       36  41000.0   \n",
       "\n",
       "      Installs  Type   Price Content Rating         Genres       Last Updated  \\\n",
       "4197       100  Paid  399.99       Everyone  Entertainment      July 16, 2018   \n",
       "4362     10000  Paid  399.99       Everyone      Lifestyle     March 11, 2018   \n",
       "4367     10000  Paid  400.00       Everyone      Lifestyle        May 3, 2018   \n",
       "5351    100000  Paid  399.99       Everyone      Lifestyle   January 12, 2018   \n",
       "5354     10000  Paid  399.99       Everyone  Entertainment       May 19, 2018   \n",
       "5355     10000  Paid  299.99       Everyone      Lifestyle      July 21, 2018   \n",
       "5356     50000  Paid  399.99       Everyone        Finance  November 12, 2017   \n",
       "5357      1000  Paid  379.99       Everyone      Lifestyle       July 1, 2018   \n",
       "5358      1000  Paid  399.99       Everyone        Finance  December 11, 2017   \n",
       "5359      5000  Paid  399.99       Everyone        Finance        May 1, 2017   \n",
       "5362      5000  Paid  399.99       Everyone  Entertainment       May 30, 2017   \n",
       "5364      1000  Paid  399.99           Teen        Finance   December 6, 2017   \n",
       "5366     10000  Paid  389.99       Everyone  Entertainment      June 22, 2018   \n",
       "5369      5000  Paid  399.99       Everyone        Finance     March 22, 2018   \n",
       "5373      1000  Paid  399.99       Everyone        Finance      June 25, 2018   \n",
       "\n",
       "     Current Ver   Android Ver  \n",
       "4197         1.0    7.0 and up  \n",
       "4362       1.0.0    4.4 and up  \n",
       "4367       1.0.1    4.1 and up  \n",
       "5351         2.0  4.0.3 and up  \n",
       "5354         3.0    4.4 and up  \n",
       "5355       1.1.1    4.3 and up  \n",
       "5356         1.6    4.0 and up  \n",
       "5357         1.0    4.0 and up  \n",
       "5358         1.0    4.1 and up  \n",
       "5359         3.4    4.4 and up  \n",
       "5362        1.54    1.6 and up  \n",
       "5364           2  4.0.3 and up  \n",
       "5366         1.5    4.2 and up  \n",
       "5369         1.0    4.2 and up  \n",
       "5373       1.0.2    4.1 and up  "
      ]
     },
     "execution_count": 40,
     "metadata": {},
     "output_type": "execute_result"
    }
   ],
   "source": [
    "# Checking the records where price of apps on play store is more than $200.\n",
    "\n",
    "df_play[df_play['Price'] > 200]"
   ]
  },
  {
   "cell_type": "code",
   "execution_count": 41,
   "metadata": {},
   "outputs": [
    {
     "name": "stdout",
     "output_type": "stream",
     "text": [
      "There are total 15 records having cost of app more than $200 on play store.\n"
     ]
    }
   ],
   "source": [
    "# Checking the total count of records where price of apps on play store is more than $200.\n",
    " \n",
    "print(f'There are total {(df_play.Price > 200).sum()} records having cost of app more than $200 on play store.')"
   ]
  },
  {
   "cell_type": "markdown",
   "metadata": {},
   "source": [
    "    Yes, we can say that there are app on play store having cost of more than $200."
   ]
  },
  {
   "cell_type": "markdown",
   "metadata": {},
   "source": [
    "*iv. Limit data to records with price < $30*"
   ]
  },
  {
   "cell_type": "code",
   "execution_count": 42,
   "metadata": {},
   "outputs": [],
   "source": [
    "# Limiting the records by dropping the those records having app price more than $30\n",
    "\n",
    "df_play.drop(df_play[df_play['Price'] > 30].index, inplace = True)"
   ]
  },
  {
   "cell_type": "code",
   "execution_count": 43,
   "metadata": {},
   "outputs": [
    {
     "data": {
      "text/plain": [
       "(9338, 13)"
      ]
     },
     "execution_count": 43,
     "metadata": {},
     "output_type": "execute_result"
    }
   ],
   "source": [
    "# Checking the shape of the dataset afterthe above operation\n",
    "\n",
    "df_play.shape"
   ]
  },
  {
   "cell_type": "markdown",
   "metadata": {},
   "source": [
    "*iii. After dropping the useless records, make the suitable plot again to identify outliers*"
   ]
  },
  {
   "cell_type": "code",
   "execution_count": 44,
   "metadata": {},
   "outputs": [
    {
     "data": {
      "image/png": "[encoded data removed]",
      "text/plain": [
       "<Figure size 432x288 with 1 Axes>"
      ]
     },
     "metadata": {
      "needs_background": "light"
     },
     "output_type": "display_data"
    }
   ],
   "source": [
    "# Visuaizing the outliers using the boxplot after removing the unneceesray records.\n",
    "\n",
    "sns.boxplot(df_play['Price'], data = df_play)\n",
    "plt.show()"
   ]
  },
  {
   "cell_type": "markdown",
   "metadata": {},
   "source": [
    "##### b. Reviews column\n",
    "*i. Make suitable plot*"
   ]
  },
  {
   "cell_type": "code",
   "execution_count": 45,
   "metadata": {},
   "outputs": [
    {
     "data": {
      "image/png": "[encoded data removed]",
      "text/plain": [
       "<Figure size 720x504 with 1 Axes>"
      ]
     },
     "metadata": {
      "needs_background": "light"
     },
     "output_type": "display_data"
    }
   ],
   "source": [
    "# Setting the figure size\n",
    "plt.figure(figsize=(10,7))\n",
    "\n",
    "# Setting the figure style\n",
    "sns.set_style('darkgrid')\n",
    "\n",
    "# Adding title to the plot\n",
    "plt.title(\"Distribution of Reviews\")\n",
    "\n",
    "# Visualizing the distribution of reviews.\n",
    "sns.distplot(df_play['Reviews'], color = 'red')\n",
    "plt.show()"
   ]
  },
  {
   "cell_type": "markdown",
   "metadata": {},
   "source": [
    "*ii. Limit data to apps with < 1 Million reviews*"
   ]
  },
  {
   "cell_type": "code",
   "execution_count": 46,
   "metadata": {},
   "outputs": [
    {
     "name": "stdout",
     "output_type": "stream",
     "text": [
      "There are 704 records where Apps are having less than 1 million reviews \n"
     ]
    }
   ],
   "source": [
    "# Chceking the records where apps having less then 1 million reviews\n",
    "\n",
    "print(f'There are {(df_play.Reviews > 1000000).sum()} records where Apps are having less than 1 million reviews ')"
   ]
  },
  {
   "cell_type": "code",
   "execution_count": 47,
   "metadata": {},
   "outputs": [],
   "source": [
    "# Droping the above found records inorder to limit the data with records having more than 1 million views on apps\n",
    "\n",
    "df_play.drop(df_play[df_play['Reviews'] > 1000000].index, inplace = True)"
   ]
  },
  {
   "cell_type": "code",
   "execution_count": 48,
   "metadata": {},
   "outputs": [
    {
     "name": "stdout",
     "output_type": "stream",
     "text": [
      "Total records in the dataset : 8634\n"
     ]
    }
   ],
   "source": [
    "# CHceking the records again\n",
    "\n",
    "print(f'Total records in the dataset : {df_play.shape[0]}')"
   ]
  },
  {
   "cell_type": "markdown",
   "metadata": {},
   "source": [
    "##### c. Installs\n",
    "*i. What is the 95th percentile of the installs?*"
   ]
  },
  {
   "cell_type": "code",
   "execution_count": 49,
   "metadata": {},
   "outputs": [
    {
     "name": "stdout",
     "output_type": "stream",
     "text": [
      "95th percentile of installs : 10000000.0\n"
     ]
    }
   ],
   "source": [
    "install_per = np.percentile(df_play.Installs, 95)\n",
    "\n",
    "print(f'95th percentile of installs : {install_per}')"
   ]
  },
  {
   "cell_type": "markdown",
   "metadata": {},
   "source": [
    "*ii. Drop records having a value more than the 95th percentile*"
   ]
  },
  {
   "cell_type": "code",
   "execution_count": 50,
   "metadata": {},
   "outputs": [
    {
     "data": {
      "text/plain": [
       "199"
      ]
     },
     "execution_count": 50,
     "metadata": {},
     "output_type": "execute_result"
    }
   ],
   "source": [
    "# Checking the sum of records having a value more than the 95th percentile\n",
    "\n",
    "(df_play.Installs > install_per).sum()"
   ]
  },
  {
   "cell_type": "code",
   "execution_count": 51,
   "metadata": {},
   "outputs": [],
   "source": [
    "# Droping the 199 records as they have a value more than 95th percentile.\n",
    "\n",
    "df_play.drop(df_play[df_play['Installs'] > install_per].index, inplace = True)"
   ]
  },
  {
   "cell_type": "code",
   "execution_count": 52,
   "metadata": {},
   "outputs": [
    {
     "data": {
      "text/plain": [
       "(8435, 13)"
      ]
     },
     "execution_count": 52,
     "metadata": {},
     "output_type": "execute_result"
    }
   ],
   "source": [
    "# Chceking the shape of the dataset after the above operation\n",
    "\n",
    "df_play.shape"
   ]
  },
  {
   "cell_type": "markdown",
   "metadata": {},
   "source": [
    "## Data analysis to answer business questions"
   ]
  },
  {
   "cell_type": "markdown",
   "metadata": {},
   "source": [
    "### 5. What is the distribution of ratings like? (use Seaborn) More skewed towards higher/lower values?\n"
   ]
  },
  {
   "cell_type": "code",
   "execution_count": 53,
   "metadata": {},
   "outputs": [
    {
     "data": {
      "image/png": "[encoded data removed]",
      "text/plain": [
       "<Figure size 720x504 with 1 Axes>"
      ]
     },
     "metadata": {},
     "output_type": "display_data"
    }
   ],
   "source": [
    "# Visualizing the distribution of 'Ratings' using distplot.\n",
    "\n",
    "plt.figure(figsize=(10,7))\n",
    "sns.set_style('whitegrid')\n",
    "\n",
    "plt.title(\"Distribution of Rating\")\n",
    "sns.distplot(df_play['Rating'], color = 'gold', kde_kws = {\"color\" : \"green\"})\n",
    "plt.show()"
   ]
  },
  {
   "cell_type": "markdown",
   "metadata": {},
   "source": [
    "##### a. How do you explain this?"
   ]
  },
  {
   "cell_type": "markdown",
   "metadata": {},
   "source": [
    "    The distribution of 'Rating' is negatively skewed, as the distribution with the tail on its left side.\n",
    "    Thus, the value of skewness for a negatively skewed distribution is less than zero and the distribution of Rating is\n",
    "    more Skewed towards lower values.\n",
    "    Where, mean < median < mode."
   ]
  },
  {
   "cell_type": "code",
   "execution_count": 54,
   "metadata": {},
   "outputs": [
    {
     "data": {
      "text/plain": [
       "-1.7434270330647985"
      ]
     },
     "execution_count": 54,
     "metadata": {},
     "output_type": "execute_result"
    }
   ],
   "source": [
    "# Checking the value of skewness of 'Rating'\n",
    "\n",
    "rat_skew = df_play['Rating'].skew()\n",
    "rat_skew"
   ]
  },
  {
   "cell_type": "markdown",
   "metadata": {},
   "source": [
    "##### b. What is the implication of this on your analysis?"
   ]
  },
  {
   "cell_type": "markdown",
   "metadata": {},
   "source": [
    "    Too much of Skewness can mislead the data by changing the median by inflating or deflating it.\n",
    "    As, this distribution is skewed for lower values, it indicates that the apps having higher ratings is able to hide\n",
    "    the low rating apps of the majority by inflating the average rating. \n",
    "    Hence, also indicating the outliers as the tail is negatively skewed."
   ]
  },
  {
   "cell_type": "markdown",
   "metadata": {},
   "source": [
    "### 6. What are the top Content Rating values?"
   ]
  },
  {
   "cell_type": "code",
   "execution_count": 55,
   "metadata": {},
   "outputs": [
    {
     "data": {
      "text/plain": [
       "Everyone           6782\n",
       "Teen                900\n",
       "Mature 17+          417\n",
       "Everyone 10+        332\n",
       "Adults only 18+       3\n",
       "Unrated               1\n",
       "Name: Content Rating, dtype: int64"
      ]
     },
     "execution_count": 55,
     "metadata": {},
     "output_type": "execute_result"
    }
   ],
   "source": [
    "# Checking the categories of 'Content Rating'\n",
    "\n",
    "df_play['Content Rating'].value_counts()"
   ]
  },
  {
   "cell_type": "code",
   "execution_count": 56,
   "metadata": {},
   "outputs": [
    {
     "data": {
      "image/png": "[encoded data removed]",
      "text/plain": [
       "<Figure size 720x432 with 1 Axes>"
      ]
     },
     "metadata": {},
     "output_type": "display_data"
    }
   ],
   "source": [
    "# Visualising the categories of 'Content Rating'\n",
    "\n",
    "plt.figure(figsize=(10,6))\n",
    "\n",
    "sns.countplot(df_play['Content Rating'])\n",
    "plt.show()"
   ]
  },
  {
   "cell_type": "markdown",
   "metadata": {},
   "source": [
    "    Content rating value - Everyone has the approx. 80% of the values as compared to other ratings."
   ]
  },
  {
   "cell_type": "markdown",
   "metadata": {},
   "source": [
    "##### a. Are there any values with very few records?"
   ]
  },
  {
   "cell_type": "markdown",
   "metadata": {},
   "source": [
    "    Yes, the are values:\n",
    "            - Adults only 18+\n",
    "            - Unrated\n",
    "    with almost no values, thus, having a very few records."
   ]
  },
  {
   "cell_type": "markdown",
   "metadata": {},
   "source": [
    "##### b. If yes, drop those as they won’t help in the analysis"
   ]
  },
  {
   "cell_type": "code",
   "execution_count": 57,
   "metadata": {},
   "outputs": [],
   "source": [
    "# Dropping the values having a few records.\n",
    "\n",
    "df_play.drop(df_play[df_play['Content Rating'] == 'Adults only 18+'].index, inplace = True)\n",
    "df_play.drop(df_play[df_play['Content Rating'] == 'Unrated'].index, inplace = True)"
   ]
  },
  {
   "cell_type": "code",
   "execution_count": 58,
   "metadata": {},
   "outputs": [
    {
     "data": {
      "text/plain": [
       "array(['Everyone', 'Everyone 10+', 'Mature 17+', 'Teen'], dtype=object)"
      ]
     },
     "execution_count": 58,
     "metadata": {},
     "output_type": "execute_result"
    }
   ],
   "source": [
    "# CHceking the unique value after dropping the 2 sub -categories.\n",
    "\n",
    "np.unique(df_play['Content Rating'])"
   ]
  },
  {
   "cell_type": "markdown",
   "metadata": {},
   "source": [
    "### 7. Effect of size on rating\n",
    "##### a. Make a joinplot to understand the effect of size on rating"
   ]
  },
  {
   "cell_type": "code",
   "execution_count": 59,
   "metadata": {},
   "outputs": [
    {
     "data": {
      "image/png": "[encoded data removed]",
      "text/plain": [
       "<Figure size 432x432 with 3 Axes>"
      ]
     },
     "metadata": {},
     "output_type": "display_data"
    }
   ],
   "source": [
    "# VIsuaising the jointplot to see the relationship between the size of the appa nd it's ratings on play store.\n",
    "\n",
    "sns.set_style('white')\n",
    "sns.jointplot(x = 'Size', y = 'Rating', data = df_play, kind = 'hex', color = 'g')\n",
    "plt.show()"
   ]
  },
  {
   "cell_type": "markdown",
   "metadata": {},
   "source": [
    "##### b. Do you see any patterns?"
   ]
  },
  {
   "cell_type": "markdown",
   "metadata": {},
   "source": [
    "    The above plot shows the bivariate analysis of the variables. Thus, it represents the correlation, i.e. relationship\n",
    "    of the variables and also describes the strength of their relationship."
   ]
  },
  {
   "cell_type": "markdown",
   "metadata": {},
   "source": [
    "##### c. How do you explain the pattern?"
   ]
  },
  {
   "cell_type": "markdown",
   "metadata": {},
   "source": [
    "    The pattern observed is, darker colors indicating that the data points are concentrated in that region, i.e.\n",
    "    data points between range 3.7 - 4.5, while white bins indicate that there is no data or less conecnetartion of data \n",
    "    points. Thus we can conclude that their is positive correlation between Size and Rating."
   ]
  },
  {
   "cell_type": "markdown",
   "metadata": {},
   "source": [
    "### 8. Effect of price on rating\n",
    "##### a. Make a jointplot (with regression line)"
   ]
  },
  {
   "cell_type": "code",
   "execution_count": 60,
   "metadata": {},
   "outputs": [
    {
     "data": {
      "image/png": "[encoded data removed]",
      "text/plain": [
       "<Figure size 432x432 with 3 Axes>"
      ]
     },
     "metadata": {},
     "output_type": "display_data"
    }
   ],
   "source": [
    "# VIsualising the effect of price of the app on rating.\n",
    "\n",
    "sns.jointplot(x = 'Price', y = 'Rating', data = df_play, kind = 'reg', color = 'darkmagenta')\n",
    "plt.show()"
   ]
  },
  {
   "cell_type": "markdown",
   "metadata": {},
   "source": [
    "##### b. What pattern do you see?"
   ]
  },
  {
   "cell_type": "markdown",
   "metadata": {},
   "source": [
    "    Here, the pattern seems to be as the price increases the rating is constat which is 4."
   ]
  },
  {
   "cell_type": "markdown",
   "metadata": {},
   "source": [
    "##### c. How do you explain the pattern?"
   ]
  },
  {
   "cell_type": "markdown",
   "metadata": {},
   "source": [
    "    As the price incraese of the app, the regression line shows the positive line but not totally, the relation is almost\n",
    "    or approxx. to 4 as rating when the price increases. Thus, There is not much effect of price on ratings as the \n",
    "    price increases ratings remain constant between 4.0 to 4.5"
   ]
  },
  {
   "cell_type": "markdown",
   "metadata": {},
   "source": [
    "##### d. Replot the data, this time with only records with price > 0"
   ]
  },
  {
   "cell_type": "code",
   "execution_count": 61,
   "metadata": {},
   "outputs": [],
   "source": [
    "# Getting the data where price is greater than 0\n",
    "\n",
    "df_price = df_play[df_play['Price'] > 0]"
   ]
  },
  {
   "cell_type": "code",
   "execution_count": 62,
   "metadata": {},
   "outputs": [
    {
     "data": {
      "image/png": "[encoded data removed]",
      "text/plain": [
       "<Figure size 432x432 with 3 Axes>"
      ]
     },
     "metadata": {},
     "output_type": "display_data"
    }
   ],
   "source": [
    "# Visualizing the plot.\n",
    "\n",
    "sns.jointplot(x = 'Price', y = 'Rating', data = df_price, kind = 'reg', color = 'darkmagenta')\n",
    "plt.show()"
   ]
  },
  {
   "cell_type": "markdown",
   "metadata": {},
   "source": [
    "##### e. Does the pattern change?"
   ]
  },
  {
   "cell_type": "markdown",
   "metadata": {},
   "source": [
    "    Yes, the pattern changes slightly.\n",
    "    Although, there is not much change in the pattern when we look for the apps whose price is greater than zero.\n",
    "    As we can see there is a slight fall in the ratings when apps are greater than zero."
   ]
  },
  {
   "cell_type": "markdown",
   "metadata": {},
   "source": [
    "##### f. What is your overall inference on the effect of price on the rating"
   ]
  },
  {
   "cell_type": "markdown",
   "metadata": {},
   "source": [
    "    Most of the apps whose price is between 0 to 5 are the one which are having most of the ratings or diversed ratngs\n",
    "    and the apps which are free have highest number of ratings. As the Price increase there is a slight down fall because\n",
    "    most of the apps are not affordable at the listed price. There is a not much effect of price on rating."
   ]
  },
  {
   "cell_type": "markdown",
   "metadata": {},
   "source": [
    "### 9. Look at all the numeric interactions together –\n",
    "##### a. Make a pairplort with the colulmns - 'Reviews', 'Size', 'Rating', 'Price'"
   ]
  },
  {
   "cell_type": "code",
   "execution_count": 63,
   "metadata": {},
   "outputs": [
    {
     "data": {
      "image/png": "[encoded data removed]",
      "text/plain": [
       "<Figure size 720x720 with 20 Axes>"
      ]
     },
     "metadata": {},
     "output_type": "display_data"
    }
   ],
   "source": [
    "# VIsualising the numeric data together in a pairplot.\n",
    "\n",
    "sns.pairplot(df_play, vars=['Rating','Size', 'Reviews', 'Price'])\n",
    "plt.show()"
   ]
  },
  {
   "cell_type": "markdown",
   "metadata": {},
   "source": [
    "### 10. Rating vs. content rating\n",
    "##### a. Make a bar plot displaying the rating for each content rating"
   ]
  },
  {
   "cell_type": "code",
   "execution_count": 64,
   "metadata": {},
   "outputs": [
    {
     "data": {
      "image/png": "[encoded data removed]",
      "text/plain": [
       "<Figure size 720x432 with 1 Axes>"
      ]
     },
     "metadata": {},
     "output_type": "display_data"
    }
   ],
   "source": [
    "# Visualising the rating for each content rating using bar plot\n",
    "\n",
    "plt.figure(figsize=(10,6))\n",
    "plt.title('Rating vs. content rating')\n",
    "sns.set_style('darkgrid')\n",
    "\n",
    "df_play.groupby(['Content Rating'])['Rating'].count().plot.bar(color = \"greenyellow\")\n",
    "plt.show()"
   ]
  },
  {
   "cell_type": "markdown",
   "metadata": {},
   "source": [
    "##### b. Which metric would you use? Mean? Median? Some other quantile?"
   ]
  },
  {
   "cell_type": "code",
   "execution_count": 65,
   "metadata": {},
   "outputs": [
    {
     "data": {
      "image/png": "[encoded data removed]",
      "text/plain": [
       "<Figure size 432x288 with 1 Axes>"
      ]
     },
     "metadata": {},
     "output_type": "display_data"
    }
   ],
   "source": [
    "# Boxplot\n",
    "\n",
    "sns.boxplot(df_play['Rating'], data = df_play)\n",
    "plt.show()"
   ]
  },
  {
   "cell_type": "markdown",
   "metadata": {},
   "source": [
    "    As, there are outliers in 'Ratings', then the right metric would be median in this case."
   ]
  },
  {
   "cell_type": "markdown",
   "metadata": {},
   "source": [
    "##### c. Choose the right metric and plot"
   ]
  },
  {
   "cell_type": "code",
   "execution_count": 66,
   "metadata": {},
   "outputs": [
    {
     "data": {
      "image/png": "[encoded data removed]",
      "text/plain": [
       "<Figure size 720x432 with 1 Axes>"
      ]
     },
     "metadata": {},
     "output_type": "display_data"
    }
   ],
   "source": [
    "# Visualising the bar plot\n",
    "\n",
    "plt.figure(figsize=(10,6))\n",
    "\n",
    "df_play.groupby(['Content Rating'])['Rating'].median().plot.bar(color = \"greenyellow\")\n",
    "plt.show()"
   ]
  },
  {
   "cell_type": "markdown",
   "metadata": {},
   "source": [
    "### 11. Content rating vs. size vs. rating – 3 variables at a time\n",
    "##### a. Create 5 buckets (20% records in each) based on Size"
   ]
  },
  {
   "cell_type": "code",
   "execution_count": 67,
   "metadata": {},
   "outputs": [
    {
     "data": {
      "text/html": [
       "<div>\n",
       "<style scoped>\n",
       "    .dataframe tbody tr th:only-of-type {\n",
       "        vertical-align: middle;\n",
       "    }\n",
       "\n",
       "    .dataframe tbody tr th {\n",
       "        vertical-align: top;\n",
       "    }\n",
       "\n",
       "    .dataframe thead th {\n",
       "        text-align: right;\n",
       "    }\n",
       "</style>\n",
       "<table border=\"1\" class=\"dataframe\">\n",
       "  <thead>\n",
       "    <tr style=\"text-align: right;\">\n",
       "      <th>Content Rating</th>\n",
       "      <th>Everyone</th>\n",
       "      <th>Everyone 10+</th>\n",
       "      <th>Mature 17+</th>\n",
       "      <th>Teen</th>\n",
       "    </tr>\n",
       "    <tr>\n",
       "      <th>bucket_size</th>\n",
       "      <th></th>\n",
       "      <th></th>\n",
       "      <th></th>\n",
       "      <th></th>\n",
       "    </tr>\n",
       "  </thead>\n",
       "  <tbody>\n",
       "    <tr>\n",
       "      <th>0 - 20k</th>\n",
       "      <td>4.145730</td>\n",
       "      <td>4.247561</td>\n",
       "      <td>4.010582</td>\n",
       "      <td>4.182240</td>\n",
       "    </tr>\n",
       "    <tr>\n",
       "      <th>20k - 40k</th>\n",
       "      <td>4.200195</td>\n",
       "      <td>4.169811</td>\n",
       "      <td>4.156291</td>\n",
       "      <td>4.170432</td>\n",
       "    </tr>\n",
       "    <tr>\n",
       "      <th>40k - 60k</th>\n",
       "      <td>4.167083</td>\n",
       "      <td>4.263636</td>\n",
       "      <td>4.190476</td>\n",
       "      <td>4.237383</td>\n",
       "    </tr>\n",
       "    <tr>\n",
       "      <th>60k - 80k</th>\n",
       "      <td>4.245408</td>\n",
       "      <td>4.280769</td>\n",
       "      <td>4.200000</td>\n",
       "      <td>4.274194</td>\n",
       "    </tr>\n",
       "    <tr>\n",
       "      <th>80k - 100k</th>\n",
       "      <td>4.260127</td>\n",
       "      <td>4.304762</td>\n",
       "      <td>4.252632</td>\n",
       "      <td>4.270313</td>\n",
       "    </tr>\n",
       "  </tbody>\n",
       "</table>\n",
       "</div>"
      ],
      "text/plain": [
       "Content Rating  Everyone  Everyone 10+  Mature 17+      Teen\n",
       "bucket_size                                                 \n",
       "0 - 20k         4.145730      4.247561    4.010582  4.182240\n",
       "20k - 40k       4.200195      4.169811    4.156291  4.170432\n",
       "40k - 60k       4.167083      4.263636    4.190476  4.237383\n",
       "60k - 80k       4.245408      4.280769    4.200000  4.274194\n",
       "80k - 100k      4.260127      4.304762    4.252632  4.270313"
      ]
     },
     "execution_count": 67,
     "metadata": {},
     "output_type": "execute_result"
    }
   ],
   "source": [
    "# Creating bin\n",
    "bins = [0, 20000, 40000, 60000, 80000, 100000]\n",
    "\n",
    "# CReating bucket size\n",
    "df_play['bucket_size'] = pd.cut(df_play['Size'], bins, \n",
    "                                labels = ['0 - 20k', '20k - 40k', '40k - 60k', '60k - 80k', '80k - 100k'])\n",
    "\n",
    "# Creating a table to comapre the values of 'Conten Rating', 'Size' and 'Rating'\n",
    "table1 = pd.pivot_table(df_play, \n",
    "                        values = 'Rating',\n",
    "                        index = 'bucket_size',\n",
    "                        columns = 'Content Rating')\n",
    "\n",
    "table1"
   ]
  },
  {
   "cell_type": "markdown",
   "metadata": {},
   "source": [
    "##### b. By Content Rating vs. Size buckets, get the rating (20th percentile) for each combination"
   ]
  },
  {
   "cell_type": "code",
   "execution_count": 68,
   "metadata": {},
   "outputs": [
    {
     "data": {
      "text/html": [
       "<div>\n",
       "<style scoped>\n",
       "    .dataframe tbody tr th:only-of-type {\n",
       "        vertical-align: middle;\n",
       "    }\n",
       "\n",
       "    .dataframe tbody tr th {\n",
       "        vertical-align: top;\n",
       "    }\n",
       "\n",
       "    .dataframe thead th {\n",
       "        text-align: right;\n",
       "    }\n",
       "</style>\n",
       "<table border=\"1\" class=\"dataframe\">\n",
       "  <thead>\n",
       "    <tr style=\"text-align: right;\">\n",
       "      <th>Content Rating</th>\n",
       "      <th>Everyone</th>\n",
       "      <th>Everyone 10+</th>\n",
       "      <th>Mature 17+</th>\n",
       "      <th>Teen</th>\n",
       "    </tr>\n",
       "    <tr>\n",
       "      <th>bucket_size</th>\n",
       "      <th></th>\n",
       "      <th></th>\n",
       "      <th></th>\n",
       "      <th></th>\n",
       "    </tr>\n",
       "  </thead>\n",
       "  <tbody>\n",
       "    <tr>\n",
       "      <th>0 - 20k</th>\n",
       "      <td>3.80</td>\n",
       "      <td>4.02</td>\n",
       "      <td>3.5</td>\n",
       "      <td>3.9</td>\n",
       "    </tr>\n",
       "    <tr>\n",
       "      <th>20k - 40k</th>\n",
       "      <td>4.00</td>\n",
       "      <td>4.00</td>\n",
       "      <td>4.0</td>\n",
       "      <td>3.9</td>\n",
       "    </tr>\n",
       "    <tr>\n",
       "      <th>40k - 60k</th>\n",
       "      <td>3.90</td>\n",
       "      <td>4.06</td>\n",
       "      <td>4.1</td>\n",
       "      <td>4.0</td>\n",
       "    </tr>\n",
       "    <tr>\n",
       "      <th>60k - 80k</th>\n",
       "      <td>4.00</td>\n",
       "      <td>4.00</td>\n",
       "      <td>4.0</td>\n",
       "      <td>4.0</td>\n",
       "    </tr>\n",
       "    <tr>\n",
       "      <th>80k - 100k</th>\n",
       "      <td>4.04</td>\n",
       "      <td>4.10</td>\n",
       "      <td>4.0</td>\n",
       "      <td>4.0</td>\n",
       "    </tr>\n",
       "  </tbody>\n",
       "</table>\n",
       "</div>"
      ],
      "text/plain": [
       "Content Rating  Everyone  Everyone 10+  Mature 17+  Teen\n",
       "bucket_size                                             \n",
       "0 - 20k             3.80          4.02         3.5   3.9\n",
       "20k - 40k           4.00          4.00         4.0   3.9\n",
       "40k - 60k           3.90          4.06         4.1   4.0\n",
       "60k - 80k           4.00          4.00         4.0   4.0\n",
       "80k - 100k          4.04          4.10         4.0   4.0"
      ]
     },
     "execution_count": 68,
     "metadata": {},
     "output_type": "execute_result"
    }
   ],
   "source": [
    "# Creating a table to comapre the values of 'Conten Rating', 'Size' and 'Rating' having value og 20th quantile\n",
    "\n",
    "table2 = pd.pivot_table(df_play, \n",
    "                        values = 'Rating',\n",
    "                        index = 'bucket_size',\n",
    "                        columns = 'Content Rating',\n",
    "                        aggfunc = lambda x : np.quantile(x, 0.2))\n",
    "\n",
    "table2"
   ]
  },
  {
   "cell_type": "markdown",
   "metadata": {},
   "source": [
    "##### c. Make a heatmap of this\n",
    "*i. Annotated*"
   ]
  },
  {
   "cell_type": "code",
   "execution_count": 69,
   "metadata": {},
   "outputs": [
    {
     "data": {
      "image/png": "[encoded data removed]",
      "text/plain": [
       "<Figure size 576x432 with 2 Axes>"
      ]
     },
     "metadata": {},
     "output_type": "display_data"
    }
   ],
   "source": [
    "# VIsualizing the table using heatmap which is annoted \n",
    "\n",
    "plt.figure(figsize = (8,6))\n",
    "sns.heatmap(table2, annot = True, linewidths = .2, cmap = 'YlOrRd_r')\n",
    "plt.show()"
   ]
  },
  {
   "cell_type": "markdown",
   "metadata": {},
   "source": [
    "*ii. Greens color map*"
   ]
  },
  {
   "cell_type": "code",
   "execution_count": 70,
   "metadata": {},
   "outputs": [
    {
     "data": {
      "image/png": "[encoded data removed]",
      "text/plain": [
       "<Figure size 576x432 with 2 Axes>"
      ]
     },
     "metadata": {},
     "output_type": "display_data"
    }
   ],
   "source": [
    "plt.figure(figsize = (8,6))\n",
    "sns.heatmap(table2, annot = True, linewidths = .2, cmap = 'Greens')\n",
    "plt.show()"
   ]
  },
  {
   "cell_type": "markdown",
   "metadata": {},
   "source": [
    "##### d. What’s your inference? Are lighter apps preferred in all categories? Heavier? Some?"
   ]
  },
  {
   "cell_type": "markdown",
   "metadata": {},
   "source": [
    "    Based on analysis, the apps with size 20k - 100k have got the highest rating in all cateegories. So, its not true \n",
    "    that lighter apps are preferred in all categories. Thus, in general we can conclude that heavier apps are preferred in\n",
    "    all categories."
   ]
  }
 ],
 "metadata": {
  "kernelspec": {
   "display_name": "Python 3",
   "language": "python",
   "name": "python3"
  },
  "language_info": {
   "codemirror_mode": {
    "name": "ipython",
    "version": 3
   },
   "file_extension": ".py",
   "mimetype": "text/x-python",
   "name": "python",
   "nbconvert_exporter": "python",
   "pygments_lexer": "ipython3",
   "version": "3.8.5"
  }
 },
 "nbformat": 4,
 "nbformat_minor": 4
}
